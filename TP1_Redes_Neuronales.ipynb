{
  "cells": [
    {
      "cell_type": "markdown",
      "metadata": {
        "id": "view-in-github",
        "colab_type": "text"
      },
      "source": [
        "<a href=\"https://colab.research.google.com/github/inequihi/Redes-Neuronales/blob/main/TP1_Redes_Neuronales.ipynb\" target=\"_parent\"><img src=\"https://colab.research.google.com/assets/colab-badge.svg\" alt=\"Open In Colab\"/></a>"
      ]
    },
    {
      "cell_type": "markdown",
      "metadata": {
        "id": "7Tho-1P44w0r"
      },
      "source": [
        "# Hacer un clasificador de texto con la base de datos The 20 News Groups\n",
        "\n",
        "Para el dataset armar un modelo multiomial Naive Bayes donde se pide:\n",
        "\n",
        "- EDA\n",
        "- Metrica\n",
        "- Busqueda de hiperparametros\n",
        "- Paralelizacion\n",
        "- Evaluacion\n"
      ]
    },
    {
      "cell_type": "code",
      "execution_count": null,
      "metadata": {
        "id": "ipXlj1YPJyMr"
      },
      "outputs": [],
      "source": [
        "import pandas as pd\n",
        "import matplotlib.pyplot as plt\n",
        "import numpy as np\n",
        "import sklearn as sk"
      ]
    },
    {
      "cell_type": "markdown",
      "metadata": {
        "id": "krE_xr1S5AOx"
      },
      "source": [
        "## Separo data set en TRAIN, VALIDATION y TEST"
      ]
    },
    {
      "cell_type": "code",
      "execution_count": null,
      "metadata": {
        "id": "hdGbZBde4gmn"
      },
      "outputs": [],
      "source": [
        "from sklearn.datasets import load_files\n",
        "from sklearn.datasets import fetch_20newsgroups\n",
        "from sklearn.model_selection import train_test_split\n",
        "\n",
        "twenty_train_ALL = fetch_20newsgroups(subset='train', remove=('headers','footers','quotes'))\n",
        "\n",
        "# 20% va a validation\n",
        "train_data, val_data, train_labels, val_labels = train_test_split(twenty_train_ALL.data, twenty_train_ALL.target, test_size=0.2, random_state=42)\n",
        "\n",
        "twenty_train = {\n",
        "    'data': train_data,\n",
        "    'target': train_labels,\n",
        "    'filenames': None,  # You can set filenames if available\n",
        "    'DESCR': None,      # You can provide a description\n",
        "    'target_names': twenty_train_ALL.target_names\n",
        "}\n",
        "\n",
        "twenty_validation = {\n",
        "    'data': val_data,\n",
        "    'target': val_labels,\n",
        "    'filenames': None,  # You can set filenames if available\n",
        "    'DESCR': None,      # You can provide a description\n",
        "    'target_names': twenty_train_ALL.target_names\n",
        "}\n",
        "twenty_test = fetch_20newsgroups(subset='test', remove=('headers','footers','quotes'))\n"
      ]
    },
    {
      "cell_type": "markdown",
      "metadata": {
        "id": "YJqdoceC5FHr"
      },
      "source": [
        "## EDA"
      ]
    },
    {
      "cell_type": "code",
      "execution_count": null,
      "metadata": {
        "colab": {
          "base_uri": "https://localhost:8080/",
          "height": 746
        },
        "id": "_o_zO9435GZS",
        "outputId": "fe5a0821-4f17-43a8-933c-1e87a2ce6f4b"
      },
      "outputs": [
        {
          "output_type": "stream",
          "name": "stdout",
          "text": [
            "TRAIN\n",
            "Cantidad de articulos: 9051\n",
            "Cantidad de categorias: 20\n",
            "En total hay  [ 6 15 15 ...  0 17 10] categorias de articulos\n"
          ]
        },
        {
          "output_type": "execute_result",
          "data": {
            "text/plain": [
              "                  Categorias\n",
              "1                alt.atheism\n",
              "2              comp.graphics\n",
              "3    comp.os.ms-windows.misc\n",
              "4   comp.sys.ibm.pc.hardware\n",
              "5      comp.sys.mac.hardware\n",
              "6             comp.windows.x\n",
              "7               misc.forsale\n",
              "8                  rec.autos\n",
              "9            rec.motorcycles\n",
              "10        rec.sport.baseball\n",
              "11          rec.sport.hockey\n",
              "12                 sci.crypt\n",
              "13           sci.electronics\n",
              "14                   sci.med\n",
              "15                 sci.space\n",
              "16    soc.religion.christian\n",
              "17        talk.politics.guns\n",
              "18     talk.politics.mideast\n",
              "19        talk.politics.misc\n",
              "20        talk.religion.misc"
            ],
            "text/html": [
              "\n",
              "  <div id=\"df-3adbfdc5-98ca-4970-a16d-768c388adbe8\" class=\"colab-df-container\">\n",
              "    <div>\n",
              "<style scoped>\n",
              "    .dataframe tbody tr th:only-of-type {\n",
              "        vertical-align: middle;\n",
              "    }\n",
              "\n",
              "    .dataframe tbody tr th {\n",
              "        vertical-align: top;\n",
              "    }\n",
              "\n",
              "    .dataframe thead th {\n",
              "        text-align: right;\n",
              "    }\n",
              "</style>\n",
              "<table border=\"1\" class=\"dataframe\">\n",
              "  <thead>\n",
              "    <tr style=\"text-align: right;\">\n",
              "      <th></th>\n",
              "      <th>Categorias</th>\n",
              "    </tr>\n",
              "  </thead>\n",
              "  <tbody>\n",
              "    <tr>\n",
              "      <th>1</th>\n",
              "      <td>alt.atheism</td>\n",
              "    </tr>\n",
              "    <tr>\n",
              "      <th>2</th>\n",
              "      <td>comp.graphics</td>\n",
              "    </tr>\n",
              "    <tr>\n",
              "      <th>3</th>\n",
              "      <td>comp.os.ms-windows.misc</td>\n",
              "    </tr>\n",
              "    <tr>\n",
              "      <th>4</th>\n",
              "      <td>comp.sys.ibm.pc.hardware</td>\n",
              "    </tr>\n",
              "    <tr>\n",
              "      <th>5</th>\n",
              "      <td>comp.sys.mac.hardware</td>\n",
              "    </tr>\n",
              "    <tr>\n",
              "      <th>6</th>\n",
              "      <td>comp.windows.x</td>\n",
              "    </tr>\n",
              "    <tr>\n",
              "      <th>7</th>\n",
              "      <td>misc.forsale</td>\n",
              "    </tr>\n",
              "    <tr>\n",
              "      <th>8</th>\n",
              "      <td>rec.autos</td>\n",
              "    </tr>\n",
              "    <tr>\n",
              "      <th>9</th>\n",
              "      <td>rec.motorcycles</td>\n",
              "    </tr>\n",
              "    <tr>\n",
              "      <th>10</th>\n",
              "      <td>rec.sport.baseball</td>\n",
              "    </tr>\n",
              "    <tr>\n",
              "      <th>11</th>\n",
              "      <td>rec.sport.hockey</td>\n",
              "    </tr>\n",
              "    <tr>\n",
              "      <th>12</th>\n",
              "      <td>sci.crypt</td>\n",
              "    </tr>\n",
              "    <tr>\n",
              "      <th>13</th>\n",
              "      <td>sci.electronics</td>\n",
              "    </tr>\n",
              "    <tr>\n",
              "      <th>14</th>\n",
              "      <td>sci.med</td>\n",
              "    </tr>\n",
              "    <tr>\n",
              "      <th>15</th>\n",
              "      <td>sci.space</td>\n",
              "    </tr>\n",
              "    <tr>\n",
              "      <th>16</th>\n",
              "      <td>soc.religion.christian</td>\n",
              "    </tr>\n",
              "    <tr>\n",
              "      <th>17</th>\n",
              "      <td>talk.politics.guns</td>\n",
              "    </tr>\n",
              "    <tr>\n",
              "      <th>18</th>\n",
              "      <td>talk.politics.mideast</td>\n",
              "    </tr>\n",
              "    <tr>\n",
              "      <th>19</th>\n",
              "      <td>talk.politics.misc</td>\n",
              "    </tr>\n",
              "    <tr>\n",
              "      <th>20</th>\n",
              "      <td>talk.religion.misc</td>\n",
              "    </tr>\n",
              "  </tbody>\n",
              "</table>\n",
              "</div>\n",
              "    <div class=\"colab-df-buttons\">\n",
              "\n",
              "  <div class=\"colab-df-container\">\n",
              "    <button class=\"colab-df-convert\" onclick=\"convertToInteractive('df-3adbfdc5-98ca-4970-a16d-768c388adbe8')\"\n",
              "            title=\"Convert this dataframe to an interactive table.\"\n",
              "            style=\"display:none;\">\n",
              "\n",
              "  <svg xmlns=\"http://www.w3.org/2000/svg\" height=\"24px\" viewBox=\"0 -960 960 960\">\n",
              "    <path d=\"M120-120v-720h720v720H120Zm60-500h600v-160H180v160Zm220 220h160v-160H400v160Zm0 220h160v-160H400v160ZM180-400h160v-160H180v160Zm440 0h160v-160H620v160ZM180-180h160v-160H180v160Zm440 0h160v-160H620v160Z\"/>\n",
              "  </svg>\n",
              "    </button>\n",
              "\n",
              "  <style>\n",
              "    .colab-df-container {\n",
              "      display:flex;\n",
              "      gap: 12px;\n",
              "    }\n",
              "\n",
              "    .colab-df-convert {\n",
              "      background-color: #E8F0FE;\n",
              "      border: none;\n",
              "      border-radius: 50%;\n",
              "      cursor: pointer;\n",
              "      display: none;\n",
              "      fill: #1967D2;\n",
              "      height: 32px;\n",
              "      padding: 0 0 0 0;\n",
              "      width: 32px;\n",
              "    }\n",
              "\n",
              "    .colab-df-convert:hover {\n",
              "      background-color: #E2EBFA;\n",
              "      box-shadow: 0px 1px 2px rgba(60, 64, 67, 0.3), 0px 1px 3px 1px rgba(60, 64, 67, 0.15);\n",
              "      fill: #174EA6;\n",
              "    }\n",
              "\n",
              "    .colab-df-buttons div {\n",
              "      margin-bottom: 4px;\n",
              "    }\n",
              "\n",
              "    [theme=dark] .colab-df-convert {\n",
              "      background-color: #3B4455;\n",
              "      fill: #D2E3FC;\n",
              "    }\n",
              "\n",
              "    [theme=dark] .colab-df-convert:hover {\n",
              "      background-color: #434B5C;\n",
              "      box-shadow: 0px 1px 3px 1px rgba(0, 0, 0, 0.15);\n",
              "      filter: drop-shadow(0px 1px 2px rgba(0, 0, 0, 0.3));\n",
              "      fill: #FFFFFF;\n",
              "    }\n",
              "  </style>\n",
              "\n",
              "    <script>\n",
              "      const buttonEl =\n",
              "        document.querySelector('#df-3adbfdc5-98ca-4970-a16d-768c388adbe8 button.colab-df-convert');\n",
              "      buttonEl.style.display =\n",
              "        google.colab.kernel.accessAllowed ? 'block' : 'none';\n",
              "\n",
              "      async function convertToInteractive(key) {\n",
              "        const element = document.querySelector('#df-3adbfdc5-98ca-4970-a16d-768c388adbe8');\n",
              "        const dataTable =\n",
              "          await google.colab.kernel.invokeFunction('convertToInteractive',\n",
              "                                                    [key], {});\n",
              "        if (!dataTable) return;\n",
              "\n",
              "        const docLinkHtml = 'Like what you see? Visit the ' +\n",
              "          '<a target=\"_blank\" href=https://colab.research.google.com/notebooks/data_table.ipynb>data table notebook</a>'\n",
              "          + ' to learn more about interactive tables.';\n",
              "        element.innerHTML = '';\n",
              "        dataTable['output_type'] = 'display_data';\n",
              "        await google.colab.output.renderOutput(dataTable, element);\n",
              "        const docLink = document.createElement('div');\n",
              "        docLink.innerHTML = docLinkHtml;\n",
              "        element.appendChild(docLink);\n",
              "      }\n",
              "    </script>\n",
              "  </div>\n",
              "\n",
              "\n",
              "<div id=\"df-31043212-389b-4a2b-8915-e2e387e3b2de\">\n",
              "  <button class=\"colab-df-quickchart\" onclick=\"quickchart('df-31043212-389b-4a2b-8915-e2e387e3b2de')\"\n",
              "            title=\"Suggest charts\"\n",
              "            style=\"display:none;\">\n",
              "\n",
              "<svg xmlns=\"http://www.w3.org/2000/svg\" height=\"24px\"viewBox=\"0 0 24 24\"\n",
              "     width=\"24px\">\n",
              "    <g>\n",
              "        <path d=\"M19 3H5c-1.1 0-2 .9-2 2v14c0 1.1.9 2 2 2h14c1.1 0 2-.9 2-2V5c0-1.1-.9-2-2-2zM9 17H7v-7h2v7zm4 0h-2V7h2v10zm4 0h-2v-4h2v4z\"/>\n",
              "    </g>\n",
              "</svg>\n",
              "  </button>\n",
              "\n",
              "<style>\n",
              "  .colab-df-quickchart {\n",
              "      --bg-color: #E8F0FE;\n",
              "      --fill-color: #1967D2;\n",
              "      --hover-bg-color: #E2EBFA;\n",
              "      --hover-fill-color: #174EA6;\n",
              "      --disabled-fill-color: #AAA;\n",
              "      --disabled-bg-color: #DDD;\n",
              "  }\n",
              "\n",
              "  [theme=dark] .colab-df-quickchart {\n",
              "      --bg-color: #3B4455;\n",
              "      --fill-color: #D2E3FC;\n",
              "      --hover-bg-color: #434B5C;\n",
              "      --hover-fill-color: #FFFFFF;\n",
              "      --disabled-bg-color: #3B4455;\n",
              "      --disabled-fill-color: #666;\n",
              "  }\n",
              "\n",
              "  .colab-df-quickchart {\n",
              "    background-color: var(--bg-color);\n",
              "    border: none;\n",
              "    border-radius: 50%;\n",
              "    cursor: pointer;\n",
              "    display: none;\n",
              "    fill: var(--fill-color);\n",
              "    height: 32px;\n",
              "    padding: 0;\n",
              "    width: 32px;\n",
              "  }\n",
              "\n",
              "  .colab-df-quickchart:hover {\n",
              "    background-color: var(--hover-bg-color);\n",
              "    box-shadow: 0 1px 2px rgba(60, 64, 67, 0.3), 0 1px 3px 1px rgba(60, 64, 67, 0.15);\n",
              "    fill: var(--button-hover-fill-color);\n",
              "  }\n",
              "\n",
              "  .colab-df-quickchart-complete:disabled,\n",
              "  .colab-df-quickchart-complete:disabled:hover {\n",
              "    background-color: var(--disabled-bg-color);\n",
              "    fill: var(--disabled-fill-color);\n",
              "    box-shadow: none;\n",
              "  }\n",
              "\n",
              "  .colab-df-spinner {\n",
              "    border: 2px solid var(--fill-color);\n",
              "    border-color: transparent;\n",
              "    border-bottom-color: var(--fill-color);\n",
              "    animation:\n",
              "      spin 1s steps(1) infinite;\n",
              "  }\n",
              "\n",
              "  @keyframes spin {\n",
              "    0% {\n",
              "      border-color: transparent;\n",
              "      border-bottom-color: var(--fill-color);\n",
              "      border-left-color: var(--fill-color);\n",
              "    }\n",
              "    20% {\n",
              "      border-color: transparent;\n",
              "      border-left-color: var(--fill-color);\n",
              "      border-top-color: var(--fill-color);\n",
              "    }\n",
              "    30% {\n",
              "      border-color: transparent;\n",
              "      border-left-color: var(--fill-color);\n",
              "      border-top-color: var(--fill-color);\n",
              "      border-right-color: var(--fill-color);\n",
              "    }\n",
              "    40% {\n",
              "      border-color: transparent;\n",
              "      border-right-color: var(--fill-color);\n",
              "      border-top-color: var(--fill-color);\n",
              "    }\n",
              "    60% {\n",
              "      border-color: transparent;\n",
              "      border-right-color: var(--fill-color);\n",
              "    }\n",
              "    80% {\n",
              "      border-color: transparent;\n",
              "      border-right-color: var(--fill-color);\n",
              "      border-bottom-color: var(--fill-color);\n",
              "    }\n",
              "    90% {\n",
              "      border-color: transparent;\n",
              "      border-bottom-color: var(--fill-color);\n",
              "    }\n",
              "  }\n",
              "</style>\n",
              "\n",
              "  <script>\n",
              "    async function quickchart(key) {\n",
              "      const quickchartButtonEl =\n",
              "        document.querySelector('#' + key + ' button');\n",
              "      quickchartButtonEl.disabled = true;  // To prevent multiple clicks.\n",
              "      quickchartButtonEl.classList.add('colab-df-spinner');\n",
              "      try {\n",
              "        const charts = await google.colab.kernel.invokeFunction(\n",
              "            'suggestCharts', [key], {});\n",
              "      } catch (error) {\n",
              "        console.error('Error during call to suggestCharts:', error);\n",
              "      }\n",
              "      quickchartButtonEl.classList.remove('colab-df-spinner');\n",
              "      quickchartButtonEl.classList.add('colab-df-quickchart-complete');\n",
              "    }\n",
              "    (() => {\n",
              "      let quickchartButtonEl =\n",
              "        document.querySelector('#df-31043212-389b-4a2b-8915-e2e387e3b2de button');\n",
              "      quickchartButtonEl.style.display =\n",
              "        google.colab.kernel.accessAllowed ? 'block' : 'none';\n",
              "    })();\n",
              "  </script>\n",
              "</div>\n",
              "    </div>\n",
              "  </div>\n"
            ],
            "application/vnd.google.colaboratory.intrinsic+json": {
              "type": "dataframe",
              "variable_name": "categories_df",
              "summary": "{\n  \"name\": \"categories_df\",\n  \"rows\": 20,\n  \"fields\": [\n    {\n      \"column\": \"Categorias\",\n      \"properties\": {\n        \"dtype\": \"string\",\n        \"num_unique_values\": 20,\n        \"samples\": [\n          \"alt.atheism\",\n          \"talk.politics.mideast\",\n          \"soc.religion.christian\"\n        ],\n        \"semantic_type\": \"\",\n        \"description\": \"\"\n      }\n    }\n  ]\n}"
            }
          },
          "metadata": {},
          "execution_count": 4
        }
      ],
      "source": [
        "cantArticulosTrain = len(twenty_train[\"data\"]) #Cantidad de artículos periodísticos\n",
        "cantClasificacionesTrain = len(twenty_train[\"target\"]) #Cantidad de clasificaciones. Debería coincidir con la cantidad de artículos\n",
        "cantCategoriasTrain = len(twenty_train[\"target_names\"]) #Cantidad de categorías\n",
        "\n",
        "print(\"TRAIN\\nCantidad de articulos:\", cantArticulosTrain )\n",
        "print(\"Cantidad de categorias:\",cantCategoriasTrain)\n",
        "\n",
        "# Estudiamos las diferentes categorias\n",
        "categorias = twenty_train[\"target_names\"] #Referencia de las clasificaciones.\n",
        "# Create a DataFrame from the list\n",
        "categories_df = pd.DataFrame(categorias, columns=[\"Categorias\"], index=range(1, len(categorias)+1))\n",
        "# Vemos cuantos\n",
        "print(\"En total hay \",twenty_train[\"target\"], \"categorias de articulos\") #Clasificaciones de los artículos\n",
        "\n",
        "# Printing the DataFrame\n",
        "categories_df"
      ]
    },
    {
      "cell_type": "code",
      "execution_count": null,
      "metadata": {
        "colab": {
          "base_uri": "https://localhost:8080/",
          "height": 465
        },
        "id": "UFPHf4ws5KuF",
        "outputId": "753f6271-d274-45f3-fdbe-1b54a7820659"
      },
      "outputs": [
        {
          "output_type": "display_data",
          "data": {
            "text/plain": [
              "<Figure size 1000x600 with 1 Axes>"
            ],
            "image/png": "[encoded data removed]"
          },
          "metadata": {}
        }
      ],
      "source": [
        "# Articulos por tema en el TRAIN set\n",
        "import pandas as pd\n",
        "import matplotlib.pyplot as plt\n",
        "\n",
        "data = {'Topic': twenty_train[\"target_names\"], 'File Count': [0] * len(twenty_train[\"target_names\"])}\n",
        "df_data = pd.DataFrame(data)\n",
        "\n",
        "# Contar los archivos por tema\n",
        "for target in twenty_train[\"target\"]:\n",
        "    df_data.loc[target, 'File Count'] += 1\n",
        "\n",
        "# Generate pastel colors\n",
        "pastel_colors = ['#FF9999', '#66B2FF', '#99FF99', '#FFCC99', '#FFD700', '#FF69B4', '#20B2AA', '#9370DB', '#FF6347', '#40E0D0',\n",
        "                 '#87CEEB', '#FFB6C1', '#ADFF2F', '#FFA07A', '#FFDAB9', '#B0E0E6', '#20B2AA', '#FFC0CB', '#778899', '#00FF00']\n",
        "\n",
        "# Crear el gráfico de barras\n",
        "plt.figure(figsize=(10, 6))\n",
        "bars = plt.bar(df_data['Topic'], df_data['File Count'], color=pastel_colors)\n",
        "plt.xticks(rotation=90)\n",
        "plt.xlabel('Topic')\n",
        "plt.ylabel('File Count')\n",
        "plt.title('Archivos por categoria en TNS train data set')\n",
        "\n",
        "# Add count numbers on top of each bar\n",
        "for bar in bars:\n",
        "    yval = bar.get_height()\n",
        "    plt.text(bar.get_x() + bar.get_width() / 2, yval, round(yval, 2), ha='center', va='bottom', color='black')\n",
        "\n",
        "plt.tight_layout()\n",
        "plt.show()"
      ]
    },
    {
      "cell_type": "code",
      "execution_count": null,
      "metadata": {
        "colab": {
          "base_uri": "https://localhost:8080/"
        },
        "id": "NwydUhc15Mdk",
        "outputId": "e9da462d-ed79-4870-a01a-078db83f1bd2"
      },
      "outputs": [
        {
          "output_type": "stream",
          "name": "stdout",
          "text": [
            "------------------------------------------------------------------------------------\n",
            "Articulo Nº 15\n",
            "Clasificacion: Nº 11\n",
            "sci.crypt\n",
            "------------------------------------------------------------------------------------\n",
            "\n",
            "   Each chip includes the following components:\n",
            "\n",
            "      the Skipjack encryption algorithm\n",
            "      F, an 80-bit family key that is common to all chips\n",
            "      N, a 30-bit serial number\n",
            "      U, an 80-bit secret key that unlocks all messages encrypted with the chip\n",
            "\n",
            "Hmmm. A thirty bit serial number. And, we are told, the unit key U is\n",
            "derived deterministically from this serial number. That means that\n",
            "there are only one billion possible unit keys.\n",
            "\n",
            "   To generate the unit key for a serial number N, the 30-bit value N is\n",
            "   first padded with a fixed 34-bit block to produce a 64-bit block N1.\n",
            "   S1 and S2 are then used as keys to triple-encrypt N1, producing a\n",
            "   64-bit block R1:\n",
            "\n",
            "\t   R1 = E[D[E[N1; S1]; S2]; S1] .\n",
            "\n",
            "   Similarly, N is padded with two other 34-bit blocks to produce N2 and\n",
            "   N3, and two additional 64-bit blocks R2 and R3 are computed:  \n",
            "\n",
            "\t   R2 = E[D[E[N2; S1]; S2]; S1] \n",
            "\t   R3 = E[D[E[N3; S1]; S2]; S1] .\n",
            "\n",
            "   R1, R2, and R3 are then concatenated together, giving 192 bits. The\n",
            "   first 80 bits are assigned to U1 and the second 80 bits to U2.  The\n",
            "   rest are discarded.  The unit key U is the XOR of U1 and U2.  U1 and U2\n",
            "   are the key parts that are separately escrowed with the two escrow\n",
            "   agencies.\n",
            "\n",
            "Hmmm. We must assume that generating the unit key U from the serial\n",
            "number N rather than generating it from a randomly selected U1 and U2\n",
            "is an intentional way of assuring a \"fail safe\" for the government --\n",
            "U is completedly determined given S1, S2 and N. If S1 and S2 do not\n",
            "change they constitute effective \"master keys\" (along with F), the\n",
            "theft of which (or the possession of which by various authorities)\n",
            "completely obviates the security of the system. However, more\n",
            "interestingly, we know, for a fact that if S1 and S2 are fixed no\n",
            "matter what the keyspace for U is no more than 2^30. Why not pick U1\n",
            "and U2 at random? Why this interesting restriction of they key space\n",
            "if it NOT to provide an additional back door?\n",
            "\n",
            "I find it disturbing that at the very best my security is dependant on\n",
            "approximately 30 bytes worth of information that could be written on\n",
            "the back of a napkin.\n",
            "\n",
            "Even if S1 and S2 change periodically, the rationale behind this\n",
            "restriction in the size of the keyspace seems strange if one is\n",
            "assuming that the goal is security -- and makes perfect sense if the\n",
            "goal is an illusion of security.\n",
            "\n",
            "If S1 and S2 do not change, even if they remain secret I wonder if\n",
            "they can somehow be back-derived given enough unit key/serial number\n",
            "pairs. We are assured that this cannot happen -- but no one\n",
            "understands how Skipjack works outside of government officials and,\n",
            "soon, foreign intelligence services that gain the information via\n",
            "espionage. Presumably we will eventually have the information as well\n",
            "-- reverse engineering gets more and more advanced every year -- but\n",
            "by the time we know it may be too late.\n",
            "\n",
            "   As a sequence of values for U1, U2, and U are generated, they are\n",
            "   written onto three separate floppy disks.  The first disk contains a\n",
            "   file for each serial number that contains the corresponding key part\n",
            "   U1.  The second disk is similar but contains the U2 values.  The third\n",
            "   disk contains the unit keys U.  Agent 1 takes the first disk and agent\n",
            "   2 takes the second disk.  The third disk is used to program the chips.\n",
            "   After the chips are programmed, all information is discarded from the\n",
            "   vault and the agents leave.  The laptop may be destroyed for additional\n",
            "   assurance that no information is left behind.\n",
            "\n",
            "None of this makes me feel the least bit secure. The silly notion of\n",
            "\"destroying the laptop\" appears to be yet another bizarre distraction.\n",
            "We all know that you can't read data from DRAM that has been turned\n",
            "off for more than a few moments. On the other hand, what we don't know\n",
            "is why there is a need to generate the unit keys from S1 and S2 in the\n",
            "first place other than to weaken the system. We don't know if the\n",
            "agents in question would resist a million in cash a piece for their\n",
            "information -- its probably worth hundreds of million, so you can make\n",
            "the bribe arbitrarily hard to resist. And to tell you the truth, doing\n",
            "this in a \"vault\" rather than in Joe Random Tempest-shielded Room\n",
            "with a laptop computer seems like melodrama designed to make\n",
            "high-school dropouts from Peoria impressed -- but it does very little\n",
            "for most of the rest of us.\n",
            "\n",
            "   The protocol may be changed slightly so that four people are in the\n",
            "   room instead of two.  The first two would provide the seeds S1 and S2,\n",
            "   and the second two (the escrow agents) would take the disks back to\n",
            "   the escrow agencies.\n",
            "\n",
            "What would this provide? Lets say the escrow agencies are the ACLU and\n",
            "the NRA and their agents personally take back the disks and are always\n",
            "honest. Who cares? The NSA must be laughing out loud, because they\n",
            "have the algorithm to regenerate U given N and likely don't need to\n",
            "steal they keys as they effectively already have them.\n",
            "\n",
            "--\n",
            "Perry Metzger\t\tpmetzger@shearson.com\n"
          ]
        }
      ],
      "source": [
        "# Vemos otro articulo por ejemplo el n16\n",
        "articulo = 15\n",
        "print(\"------------------------------------------------------------------------------------\")\n",
        "print(\"Articulo Nº\",articulo)\n",
        "clasificacion =  twenty_train[\"target\"][articulo]\n",
        "print(\"Clasificacion: Nº\" ,clasificacion)  #Código de clasificación del artículo\n",
        "\n",
        "print(twenty_train[\"target_names\"][clasificacion]) #Clasificación del artículo\n",
        "print(\"------------------------------------------------------------------------------------\")\n",
        "print(twenty_train[\"data\"][articulo])     # Cuerpo artículo"
      ]
    },
    {
      "cell_type": "markdown",
      "metadata": {
        "id": "Yd5PaKHi5OJ0"
      },
      "source": [
        "### Normalizacion de los Articulos\n"
      ]
    },
    {
      "cell_type": "code",
      "execution_count": null,
      "metadata": {
        "colab": {
          "base_uri": "https://localhost:8080/"
        },
        "id": "UZD2_ocu5QNo",
        "outputId": "24554f5b-3b90-4a05-f084-0f315bf501b1"
      },
      "outputs": [
        {
          "output_type": "stream",
          "name": "stderr",
          "text": [
            "[nltk_data] Downloading package wordnet to /root/nltk_data...\n",
            "[nltk_data] Downloading package punkt to /root/nltk_data...\n",
            "[nltk_data]   Unzipping tokenizers/punkt.zip.\n",
            "[nltk_data] Downloading package stopwords to /root/nltk_data...\n",
            "[nltk_data]   Unzipping corpora/stopwords.zip.\n"
          ]
        },
        {
          "output_type": "stream",
          "name": "stdout",
          "text": [
            "\n",
            "Artículo tokenizado:\n",
            "['Nikon', 'FM-2n', 'with', '50', 'mm', 'Nikkor', 'and', 'accessories', 'for', 'sale.I', 'bought', 'this', 'camera', 'in', 'Hong', 'Kong', 'two', 'years', 'ago', 'and', 'everything', 'has', 'been', 'looked', 'after', 'very', 'well', '.', 'I', \"'m\", 'now', 'selling', 'some', 'more', 'gear', 'to', 'finance', 'my', 'next', 'big', 'film', 'project', '.']\n",
            "\n",
            "Lematización\n",
            "['Nikon', 'FM-2n', 'with', '50', 'mm', 'Nikkor', 'and', 'accessories', 'for', 'sale.I', 'buy', 'this', 'camera', 'in', 'Hong', 'Kong', 'two', 'years', 'ago', 'and', 'everything', 'have', 'be', 'look', 'after', 'very', 'well', '.', 'I', \"'m\", 'now', 'sell', 'some', 'more', 'gear', 'to', 'finance', 'my', 'next', 'big', 'film', 'project', '.']\n",
            "\n",
            "Eliminando stopwords:\n",
            "['Nikon', 'FM-2n', '50', 'mm', 'Nikkor', 'accessories', 'sale.I', 'buy', 'camera', 'Hong', 'Kong', 'two', 'years', 'ago', 'everything', 'look', 'well', '.', 'I', \"'m\", 'sell', 'gear', 'finance', 'next', 'big', 'film', 'project', '.']\n",
            "\n",
            "Aplicando stemming\n",
            "['nikon', 'fm-2n', '50', 'mm', 'nikkor', 'accessori', 'sale.i', 'buy', 'camera', 'hong', 'kong', 'two', 'year', 'ago', 'everyth', 'look', 'well', '.', 'i', \"'m\", 'sell', 'gear', 'financ', 'next', 'big', 'film', 'project', '.']\n",
            "\n",
            "Filtrando no-palabras:\n",
            "['nikon', 'mm', 'nikkor', 'accessori', 'buy', 'camera', 'hong', 'kong', 'two', 'year', 'ago', 'everyth', 'look', 'well', 'i', 'sell', 'gear', 'financ', 'next', 'big', 'film', 'project']\n",
            "------------------------------------------------------------------------------------\n",
            "Articulo Nº 0\n",
            "Clasificacion: Nº 6\n",
            "misc.forsale\n",
            "-----------------------------  BEFORE  --------------------------------------\n",
            "Nikon FM-2n with 50 mm Nikkor and accessories for sale.I bought this camera in\n",
            "Hong Kong two years ago and everything has been looked after very well. I'm now\n",
            "selling some more gear to finance my next big film project.\n",
            "\n",
            "\n",
            "-----------------------------  AFTER  ----------------------------------------\n",
            "['nikon', 'mm', 'nikkor', 'accessori', 'buy', 'camera', 'hong', 'kong', 'two', 'year', 'ago', 'everyth', 'look', 'well', 'i', 'sell', 'gear', 'financ', 'next', 'big', 'film', 'project']\n"
          ]
        },
        {
          "output_type": "stream",
          "name": "stderr",
          "text": [
            "100%|██████████| 9051/9051 [06:00<00:00, 25.12it/s]\n",
            "100%|██████████| 2263/2263 [01:30<00:00, 25.04it/s]\n",
            "100%|██████████| 7532/7532 [04:43<00:00, 26.59it/s]\n"
          ]
        }
      ],
      "source": [
        "import nltk\n",
        "from nltk.tokenize import word_tokenize\n",
        "from nltk.stem import PorterStemmer, WordNetLemmatizer\n",
        "from nltk.corpus import stopwords\n",
        "\n",
        "nltk.download('wordnet')\n",
        "nltk.download('punkt')\n",
        "nltk.download('stopwords')\n",
        "\n",
        "lemmatizer = WordNetLemmatizer()\n",
        "stemmer = PorterStemmer()\n",
        "\n",
        "# Tokenizamos el articulo  [en tokens de 1 palabra]\n",
        "art=twenty_train[\"data\"][0]\n",
        "tok=word_tokenize(art)\n",
        "print(\"\\nArtículo tokenizado:\")\n",
        "print(tok)\n",
        "\n",
        "# Step 1: LEMATIZACION\n",
        "# Lematiza cada token en el texto.\n",
        "# La lematización reduce las palabras a su forma base o de diccionario, lo cual\n",
        "# puede ser útil para normalizar el texto. El parámetro pos='v' especifica que\n",
        "# la lematización debe realizarse con respecto a los verbos.\n",
        "\n",
        "lem=[lemmatizer.lemmatize(x,pos='v') for x in tok]\n",
        "print(\"\\nLematización\")\n",
        "print(lem)\n",
        "\n",
        "# Step 2: Eliminacion de STOP words (en ingles)\n",
        "# Eliminamos palabras que no aportan conocimiento en el estudio de la clase del\n",
        "# texto ya que se repiten generlamente en todos los articulos y no aportan\n",
        "# significado\n",
        "stop = [x for x in lem if x not in stopwords.words('english')]\n",
        "print(\"\\nEliminando stopwords:\")\n",
        "print(stop)\n",
        "\n",
        "# Step 3: STEMMING\n",
        "# Se aplica stemming a cada token después de la eliminación de stopwords.\n",
        "# El stemming reduce las palabras a su forma raíz, lo cual puede implicar la\n",
        "# eliminación de prefijos o sufijos. Este paso ayuda a normalizar aún más el texto.\n",
        "stem=[stemmer.stem(x) for x in stop]\n",
        "print(\"\\nAplicando stemming\")\n",
        "print(stem)\n",
        "\n",
        "# Step 4: Filtrado alfabetico\n",
        "# Se filtran los tokens no alfabéticos de los tokens stemizados.\n",
        "# Este paso garantiza que solo se conserven palabras alfabéticas en la lista final,\n",
        "# eliminando cualquier signo de puntuación o caracteres que no sean palabras.\n",
        "alpha=[x for x in stem if x.isalpha()]\n",
        "print(\"\\nFiltrando no-palabras:\")\n",
        "print(alpha)\n",
        "\n",
        "# Ejemplo de primer articulo\n",
        "# Vemos el articulo post filtrado\n",
        "articulo = 0\n",
        "print(\"------------------------------------------------------------------------------------\")\n",
        "print(\"Articulo Nº\",articulo)\n",
        "clasificacion =  twenty_train[\"target\"][articulo]\n",
        "print(\"Clasificacion: Nº\" ,clasificacion)  #Código de clasificación del artículo\n",
        "print(twenty_train[\"target_names\"][clasificacion]) #Clasificación del artículo\n",
        "\n",
        "print(\"-----------------------------  BEFORE  --------------------------------------\")\n",
        "print(twenty_train[\"data\"][0])     # Cuerpo artículo\n",
        "print(\"\\n\")\n",
        "print(\"-----------------------------  AFTER  ----------------------------------------\")\n",
        "print(alpha)\n",
        "\n",
        "\n",
        "from tqdm import tqdm\n",
        "\n",
        "##### TRAIN DATA  ######\n",
        "# Aplicamos TOKENIZACION + LEMMATIZER + ELIMINACION DE STOPWORDS + ALPHA  a todos los articulos\n",
        "articulos_filtrados_train = list()\n",
        "\n",
        "for idx in tqdm(range(len(twenty_train[\"data\"]))):\n",
        "    art=twenty_train[\"data\"][idx]\n",
        "    tok=word_tokenize(art)\n",
        "    lem=[lemmatizer.lemmatize(x,pos='v') for x in tok]\n",
        "    stop = [x for x in lem if x not in stopwords.words('english')]\n",
        "    stem=[stemmer.stem(x) for x in stop]\n",
        "    alpha=[x for x in stem if x.isalpha()]\n",
        "    articulos_filtrados_train.append(\" \".join(alpha))\n",
        "\n",
        "#####  VALIDATION DATA  #####\n",
        "# Aplicamos TOKENIZACION + LEMMATIZER + ELIMINACION DE STOPWORDS + ALPHA  a todos los articulos\n",
        "articulos_filtrados_validation = list()\n",
        "for idx in tqdm(range(len(twenty_validation[\"data\"]))):\n",
        "    art=twenty_validation[\"data\"][idx]\n",
        "    tok=word_tokenize(art)\n",
        "    lem=[lemmatizer.lemmatize(x,pos='v') for x in tok]\n",
        "    stop = [x for x in lem if x not in stopwords.words('english')]\n",
        "    stem=[stemmer.stem(x) for x in stop]\n",
        "    alpha=[x for x in stem if x.isalpha()]\n",
        "    articulos_filtrados_validation.append(\" \".join(alpha))\n",
        "\n",
        "#####  TEST DATA  #####\n",
        "# Aplicamos TOKENIZACION + LEMMATIZER + ELIMINACION DE STOPWORDS + ALPHA  a todos los articulos\n",
        "articulos_filtrados_test = list()\n",
        "for idx in tqdm(range(len(twenty_test[\"data\"]))):\n",
        "    art=twenty_test[\"data\"][idx]\n",
        "    tok=word_tokenize(art)\n",
        "    lem=[lemmatizer.lemmatize(x,pos='v') for x in tok]\n",
        "    stop = [x for x in lem if x not in stopwords.words('english')]\n",
        "    stem=[stemmer.stem(x) for x in stop]\n",
        "    alpha=[x for x in stem if x.isalpha()]\n",
        "    articulos_filtrados_test.append(\" \".join(alpha))\n",
        "\n",
        "#Salvado del procesamiento a disco:\n",
        "import pickle\n",
        "\n",
        "with open('art_filt.txt', 'wb') as fp:\n",
        "    pickle.dump(articulos_filtrados_train, fp)\n",
        "\n",
        "with open ('art_filt.txt', 'rb') as fp:\n",
        "    itemlist = pickle.load(fp)\n"
      ]
    },
    {
      "cell_type": "markdown",
      "metadata": {
        "id": "GeUC78yk5lBy"
      },
      "source": [
        "### Count de palabras en los articulos"
      ]
    },
    {
      "cell_type": "code",
      "execution_count": null,
      "metadata": {
        "colab": {
          "base_uri": "https://localhost:8080/",
          "height": 452
        },
        "id": "o__ylYne5nsF",
        "outputId": "2d97603b-5f2a-4e9e-c397-77ce38fff778"
      },
      "outputs": [
        {
          "output_type": "display_data",
          "data": {
            "text/plain": [
              "<Figure size 640x480 with 1 Axes>"
            ],
            "image/png": "[encoded data removed]"
          },
          "metadata": {}
        }
      ],
      "source": [
        "from sklearn.feature_extraction.text import CountVectorizer\n",
        "\n",
        "count_vect = CountVectorizer()\n",
        "\n",
        "# Crear una matriz de términos-documentos --> Fit input samples\n",
        "train_data_Vocab = count_vect.fit_transform(articulos_filtrados_train)\n",
        "\n",
        "# Obtener los unigrams --> Frecuencia de palabras en todos los documentos en train\n",
        "doc_freq = np.array(train_data_Vocab.astype(bool).sum(axis=0)).flatten()\n",
        "\n",
        "a = plt.hist(doc_freq, bins=200,log=True)\n",
        "plt.title('Frecuencia de palabras en escala logaritmica')\n",
        "plt.show()\n"
      ]
    },
    {
      "cell_type": "code",
      "execution_count": null,
      "metadata": {
        "colab": {
          "base_uri": "https://localhost:8080/",
          "height": 537
        },
        "id": "HcZmWbqD6hnK",
        "outputId": "19363517-511f-4513-f38b-dd8f79a2d780"
      },
      "outputs": [
        {
          "output_type": "stream",
          "name": "stdout",
          "text": [
            "40374\n"
          ]
        },
        {
          "output_type": "execute_result",
          "data": {
            "text/plain": [
              "         Word   Freq\n",
              "0       nikon  23721\n",
              "1          mm  22039\n",
              "2      nikkor  23713\n",
              "3   accessori    174\n",
              "4         buy   4588\n",
              "5      camera   4801\n",
              "6        hong  15145\n",
              "7        kong  18553\n",
              "8         two  35672\n",
              "9        year  39693\n",
              "10        ago    611\n",
              "11    everyth  10806\n",
              "12       look  19828\n",
              "13       well  37987\n",
              "14       sell  30836"
            ],
            "text/html": [
              "\n",
              "  <div id=\"df-5deeda9c-b8a8-464f-aa7a-ab70fba23853\" class=\"colab-df-container\">\n",
              "    <div>\n",
              "<style scoped>\n",
              "    .dataframe tbody tr th:only-of-type {\n",
              "        vertical-align: middle;\n",
              "    }\n",
              "\n",
              "    .dataframe tbody tr th {\n",
              "        vertical-align: top;\n",
              "    }\n",
              "\n",
              "    .dataframe thead th {\n",
              "        text-align: right;\n",
              "    }\n",
              "</style>\n",
              "<table border=\"1\" class=\"dataframe\">\n",
              "  <thead>\n",
              "    <tr style=\"text-align: right;\">\n",
              "      <th></th>\n",
              "      <th>Word</th>\n",
              "      <th>Freq</th>\n",
              "    </tr>\n",
              "  </thead>\n",
              "  <tbody>\n",
              "    <tr>\n",
              "      <th>0</th>\n",
              "      <td>nikon</td>\n",
              "      <td>23721</td>\n",
              "    </tr>\n",
              "    <tr>\n",
              "      <th>1</th>\n",
              "      <td>mm</td>\n",
              "      <td>22039</td>\n",
              "    </tr>\n",
              "    <tr>\n",
              "      <th>2</th>\n",
              "      <td>nikkor</td>\n",
              "      <td>23713</td>\n",
              "    </tr>\n",
              "    <tr>\n",
              "      <th>3</th>\n",
              "      <td>accessori</td>\n",
              "      <td>174</td>\n",
              "    </tr>\n",
              "    <tr>\n",
              "      <th>4</th>\n",
              "      <td>buy</td>\n",
              "      <td>4588</td>\n",
              "    </tr>\n",
              "    <tr>\n",
              "      <th>5</th>\n",
              "      <td>camera</td>\n",
              "      <td>4801</td>\n",
              "    </tr>\n",
              "    <tr>\n",
              "      <th>6</th>\n",
              "      <td>hong</td>\n",
              "      <td>15145</td>\n",
              "    </tr>\n",
              "    <tr>\n",
              "      <th>7</th>\n",
              "      <td>kong</td>\n",
              "      <td>18553</td>\n",
              "    </tr>\n",
              "    <tr>\n",
              "      <th>8</th>\n",
              "      <td>two</td>\n",
              "      <td>35672</td>\n",
              "    </tr>\n",
              "    <tr>\n",
              "      <th>9</th>\n",
              "      <td>year</td>\n",
              "      <td>39693</td>\n",
              "    </tr>\n",
              "    <tr>\n",
              "      <th>10</th>\n",
              "      <td>ago</td>\n",
              "      <td>611</td>\n",
              "    </tr>\n",
              "    <tr>\n",
              "      <th>11</th>\n",
              "      <td>everyth</td>\n",
              "      <td>10806</td>\n",
              "    </tr>\n",
              "    <tr>\n",
              "      <th>12</th>\n",
              "      <td>look</td>\n",
              "      <td>19828</td>\n",
              "    </tr>\n",
              "    <tr>\n",
              "      <th>13</th>\n",
              "      <td>well</td>\n",
              "      <td>37987</td>\n",
              "    </tr>\n",
              "    <tr>\n",
              "      <th>14</th>\n",
              "      <td>sell</td>\n",
              "      <td>30836</td>\n",
              "    </tr>\n",
              "  </tbody>\n",
              "</table>\n",
              "</div>\n",
              "    <div class=\"colab-df-buttons\">\n",
              "\n",
              "  <div class=\"colab-df-container\">\n",
              "    <button class=\"colab-df-convert\" onclick=\"convertToInteractive('df-5deeda9c-b8a8-464f-aa7a-ab70fba23853')\"\n",
              "            title=\"Convert this dataframe to an interactive table.\"\n",
              "            style=\"display:none;\">\n",
              "\n",
              "  <svg xmlns=\"http://www.w3.org/2000/svg\" height=\"24px\" viewBox=\"0 -960 960 960\">\n",
              "    <path d=\"M120-120v-720h720v720H120Zm60-500h600v-160H180v160Zm220 220h160v-160H400v160Zm0 220h160v-160H400v160ZM180-400h160v-160H180v160Zm440 0h160v-160H620v160ZM180-180h160v-160H180v160Zm440 0h160v-160H620v160Z\"/>\n",
              "  </svg>\n",
              "    </button>\n",
              "\n",
              "  <style>\n",
              "    .colab-df-container {\n",
              "      display:flex;\n",
              "      gap: 12px;\n",
              "    }\n",
              "\n",
              "    .colab-df-convert {\n",
              "      background-color: #E8F0FE;\n",
              "      border: none;\n",
              "      border-radius: 50%;\n",
              "      cursor: pointer;\n",
              "      display: none;\n",
              "      fill: #1967D2;\n",
              "      height: 32px;\n",
              "      padding: 0 0 0 0;\n",
              "      width: 32px;\n",
              "    }\n",
              "\n",
              "    .colab-df-convert:hover {\n",
              "      background-color: #E2EBFA;\n",
              "      box-shadow: 0px 1px 2px rgba(60, 64, 67, 0.3), 0px 1px 3px 1px rgba(60, 64, 67, 0.15);\n",
              "      fill: #174EA6;\n",
              "    }\n",
              "\n",
              "    .colab-df-buttons div {\n",
              "      margin-bottom: 4px;\n",
              "    }\n",
              "\n",
              "    [theme=dark] .colab-df-convert {\n",
              "      background-color: #3B4455;\n",
              "      fill: #D2E3FC;\n",
              "    }\n",
              "\n",
              "    [theme=dark] .colab-df-convert:hover {\n",
              "      background-color: #434B5C;\n",
              "      box-shadow: 0px 1px 3px 1px rgba(0, 0, 0, 0.15);\n",
              "      filter: drop-shadow(0px 1px 2px rgba(0, 0, 0, 0.3));\n",
              "      fill: #FFFFFF;\n",
              "    }\n",
              "  </style>\n",
              "\n",
              "    <script>\n",
              "      const buttonEl =\n",
              "        document.querySelector('#df-5deeda9c-b8a8-464f-aa7a-ab70fba23853 button.colab-df-convert');\n",
              "      buttonEl.style.display =\n",
              "        google.colab.kernel.accessAllowed ? 'block' : 'none';\n",
              "\n",
              "      async function convertToInteractive(key) {\n",
              "        const element = document.querySelector('#df-5deeda9c-b8a8-464f-aa7a-ab70fba23853');\n",
              "        const dataTable =\n",
              "          await google.colab.kernel.invokeFunction('convertToInteractive',\n",
              "                                                    [key], {});\n",
              "        if (!dataTable) return;\n",
              "\n",
              "        const docLinkHtml = 'Like what you see? Visit the ' +\n",
              "          '<a target=\"_blank\" href=https://colab.research.google.com/notebooks/data_table.ipynb>data table notebook</a>'\n",
              "          + ' to learn more about interactive tables.';\n",
              "        element.innerHTML = '';\n",
              "        dataTable['output_type'] = 'display_data';\n",
              "        await google.colab.output.renderOutput(dataTable, element);\n",
              "        const docLink = document.createElement('div');\n",
              "        docLink.innerHTML = docLinkHtml;\n",
              "        element.appendChild(docLink);\n",
              "      }\n",
              "    </script>\n",
              "  </div>\n",
              "\n",
              "\n",
              "<div id=\"df-15079dfe-3fbf-4702-9b7e-b7000fd34271\">\n",
              "  <button class=\"colab-df-quickchart\" onclick=\"quickchart('df-15079dfe-3fbf-4702-9b7e-b7000fd34271')\"\n",
              "            title=\"Suggest charts\"\n",
              "            style=\"display:none;\">\n",
              "\n",
              "<svg xmlns=\"http://www.w3.org/2000/svg\" height=\"24px\"viewBox=\"0 0 24 24\"\n",
              "     width=\"24px\">\n",
              "    <g>\n",
              "        <path d=\"M19 3H5c-1.1 0-2 .9-2 2v14c0 1.1.9 2 2 2h14c1.1 0 2-.9 2-2V5c0-1.1-.9-2-2-2zM9 17H7v-7h2v7zm4 0h-2V7h2v10zm4 0h-2v-4h2v4z\"/>\n",
              "    </g>\n",
              "</svg>\n",
              "  </button>\n",
              "\n",
              "<style>\n",
              "  .colab-df-quickchart {\n",
              "      --bg-color: #E8F0FE;\n",
              "      --fill-color: #1967D2;\n",
              "      --hover-bg-color: #E2EBFA;\n",
              "      --hover-fill-color: #174EA6;\n",
              "      --disabled-fill-color: #AAA;\n",
              "      --disabled-bg-color: #DDD;\n",
              "  }\n",
              "\n",
              "  [theme=dark] .colab-df-quickchart {\n",
              "      --bg-color: #3B4455;\n",
              "      --fill-color: #D2E3FC;\n",
              "      --hover-bg-color: #434B5C;\n",
              "      --hover-fill-color: #FFFFFF;\n",
              "      --disabled-bg-color: #3B4455;\n",
              "      --disabled-fill-color: #666;\n",
              "  }\n",
              "\n",
              "  .colab-df-quickchart {\n",
              "    background-color: var(--bg-color);\n",
              "    border: none;\n",
              "    border-radius: 50%;\n",
              "    cursor: pointer;\n",
              "    display: none;\n",
              "    fill: var(--fill-color);\n",
              "    height: 32px;\n",
              "    padding: 0;\n",
              "    width: 32px;\n",
              "  }\n",
              "\n",
              "  .colab-df-quickchart:hover {\n",
              "    background-color: var(--hover-bg-color);\n",
              "    box-shadow: 0 1px 2px rgba(60, 64, 67, 0.3), 0 1px 3px 1px rgba(60, 64, 67, 0.15);\n",
              "    fill: var(--button-hover-fill-color);\n",
              "  }\n",
              "\n",
              "  .colab-df-quickchart-complete:disabled,\n",
              "  .colab-df-quickchart-complete:disabled:hover {\n",
              "    background-color: var(--disabled-bg-color);\n",
              "    fill: var(--disabled-fill-color);\n",
              "    box-shadow: none;\n",
              "  }\n",
              "\n",
              "  .colab-df-spinner {\n",
              "    border: 2px solid var(--fill-color);\n",
              "    border-color: transparent;\n",
              "    border-bottom-color: var(--fill-color);\n",
              "    animation:\n",
              "      spin 1s steps(1) infinite;\n",
              "  }\n",
              "\n",
              "  @keyframes spin {\n",
              "    0% {\n",
              "      border-color: transparent;\n",
              "      border-bottom-color: var(--fill-color);\n",
              "      border-left-color: var(--fill-color);\n",
              "    }\n",
              "    20% {\n",
              "      border-color: transparent;\n",
              "      border-left-color: var(--fill-color);\n",
              "      border-top-color: var(--fill-color);\n",
              "    }\n",
              "    30% {\n",
              "      border-color: transparent;\n",
              "      border-left-color: var(--fill-color);\n",
              "      border-top-color: var(--fill-color);\n",
              "      border-right-color: var(--fill-color);\n",
              "    }\n",
              "    40% {\n",
              "      border-color: transparent;\n",
              "      border-right-color: var(--fill-color);\n",
              "      border-top-color: var(--fill-color);\n",
              "    }\n",
              "    60% {\n",
              "      border-color: transparent;\n",
              "      border-right-color: var(--fill-color);\n",
              "    }\n",
              "    80% {\n",
              "      border-color: transparent;\n",
              "      border-right-color: var(--fill-color);\n",
              "      border-bottom-color: var(--fill-color);\n",
              "    }\n",
              "    90% {\n",
              "      border-color: transparent;\n",
              "      border-bottom-color: var(--fill-color);\n",
              "    }\n",
              "  }\n",
              "</style>\n",
              "\n",
              "  <script>\n",
              "    async function quickchart(key) {\n",
              "      const quickchartButtonEl =\n",
              "        document.querySelector('#' + key + ' button');\n",
              "      quickchartButtonEl.disabled = true;  // To prevent multiple clicks.\n",
              "      quickchartButtonEl.classList.add('colab-df-spinner');\n",
              "      try {\n",
              "        const charts = await google.colab.kernel.invokeFunction(\n",
              "            'suggestCharts', [key], {});\n",
              "      } catch (error) {\n",
              "        console.error('Error during call to suggestCharts:', error);\n",
              "      }\n",
              "      quickchartButtonEl.classList.remove('colab-df-spinner');\n",
              "      quickchartButtonEl.classList.add('colab-df-quickchart-complete');\n",
              "    }\n",
              "    (() => {\n",
              "      let quickchartButtonEl =\n",
              "        document.querySelector('#df-15079dfe-3fbf-4702-9b7e-b7000fd34271 button');\n",
              "      quickchartButtonEl.style.display =\n",
              "        google.colab.kernel.accessAllowed ? 'block' : 'none';\n",
              "    })();\n",
              "  </script>\n",
              "</div>\n",
              "    </div>\n",
              "  </div>\n"
            ],
            "application/vnd.google.colaboratory.intrinsic+json": {
              "type": "dataframe",
              "variable_name": "df_Palabras",
              "summary": "{\n  \"name\": \"df_Palabras\",\n  \"rows\": 40374,\n  \"fields\": [\n    {\n      \"column\": \"Word\",\n      \"properties\": {\n        \"dtype\": \"string\",\n        \"num_unique_values\": 40374,\n        \"samples\": [\n          \"hal\",\n          \"fluctut\",\n          \"paperless\"\n        ],\n        \"semantic_type\": \"\",\n        \"description\": \"\"\n      }\n    },\n    {\n      \"column\": \"Freq\",\n      \"properties\": {\n        \"dtype\": \"number\",\n        \"std\": 11655,\n        \"min\": 0,\n        \"max\": 40373,\n        \"num_unique_values\": 40374,\n        \"samples\": [\n          14095,\n          11914,\n          25420\n        ],\n        \"semantic_type\": \"\",\n        \"description\": \"\"\n      }\n    }\n  ]\n}"
            }
          },
          "metadata": {},
          "execution_count": 9
        }
      ],
      "source": [
        "data = count_vect.vocabulary_\n",
        "print(len(data))\n",
        "\n",
        "df_Palabras = pd.DataFrame(list(data.items()), columns=['Word', 'Freq'])\n",
        "df_Palabras.head(15)"
      ]
    },
    {
      "cell_type": "code",
      "execution_count": null,
      "metadata": {
        "colab": {
          "base_uri": "https://localhost:8080/"
        },
        "id": "rkRr0KYW6pFN",
        "outputId": "5010a854-152b-4472-8f8d-022bb1cc7a71"
      },
      "outputs": [
        {
          "output_type": "stream",
          "name": "stdout",
          "text": [
            "Palabra con maxima ocurrencia del articulo Nº 0 es accessori unas: 174 en todos los documentos\n"
          ]
        }
      ],
      "source": [
        "### Veamos la plabra con max ocurrencia en el articulo 14\n",
        "articulo = 0\n",
        "maxOcurr = train_data_Vocab.toarray()[articulo].argmax() #Veamos a qué palabra pertenece la máxima ocurrencia en el primer artíclo\n",
        "\n",
        "# Obtener el vocabulario del vectorizador de texto\n",
        "vocabulario = count_vect.get_feature_names_out()\n",
        "\n",
        "# Obtener la palabra con la ocurrencia máxima en el primer artículo\n",
        "palabra_max_ocurrencia = vocabulario[maxOcurr]\n",
        "\n",
        "print(\"Palabra con maxima ocurrencia del articulo Nº\" , articulo , \"es\", palabra_max_ocurrencia, \"unas:\" , maxOcurr, \"en todos los documentos\")"
      ]
    },
    {
      "cell_type": "markdown",
      "metadata": {
        "id": "JMC1kX5g5WsW"
      },
      "source": [
        "# Multinomial Naive Bayes con CV"
      ]
    },
    {
      "cell_type": "markdown",
      "metadata": {
        "id": "u9p0c7A353O9"
      },
      "source": [
        "## Train"
      ]
    },
    {
      "cell_type": "markdown",
      "metadata": {
        "id": "5FJoPZ-J6JJw"
      },
      "source": [
        "### Busqueda de Hiperparametros: max_df, min_df y alpha"
      ]
    },
    {
      "cell_type": "code",
      "execution_count": null,
      "metadata": {
        "colab": {
          "base_uri": "https://localhost:8080/",
          "height": 170
        },
        "id": "4-fPQ86RQcyq",
        "outputId": "7e37320a-3d16-470f-b98c-128770682ef9"
      },
      "outputs": [
        {
          "output_type": "stream",
          "name": "stdout",
          "text": [
            "Fitting 3 folds for each of 25 candidates, totalling 75 fits\n"
          ]
        },
        {
          "output_type": "execute_result",
          "data": {
            "text/plain": [
              "GridSearchCV(cv=3,\n",
              "             estimator=Pipeline(steps=[('vectorizer', CountVectorizer()),\n",
              "                                       ('classifier', MultinomialNB())]),\n",
              "             n_jobs=-1,\n",
              "             param_grid={'classifier__alpha': array([0.01 , 0.045, 0.08 , 0.115, 0.15 ]),\n",
              "                         'vectorizer__max_df': array([0.035  , 0.03875, 0.0425 , 0.04625, 0.05   ]),\n",
              "                         'vectorizer__min_df': [1]},\n",
              "             scoring='accuracy', verbose=10)"
            ],
            "text/html": [
              "<style>#sk-container-id-9 {color: black;background-color: white;}#sk-container-id-9 pre{padding: 0;}#sk-container-id-9 div.sk-toggleable {background-color: white;}#sk-container-id-9 label.sk-toggleable__label {cursor: pointer;display: block;width: 100%;margin-bottom: 0;padding: 0.3em;box-sizing: border-box;text-align: center;}#sk-container-id-9 label.sk-toggleable__label-arrow:before {content: \"▸\";float: left;margin-right: 0.25em;color: #696969;}#sk-container-id-9 label.sk-toggleable__label-arrow:hover:before {color: black;}#sk-container-id-9 div.sk-estimator:hover label.sk-toggleable__label-arrow:before {color: black;}#sk-container-id-9 div.sk-toggleable__content {max-height: 0;max-width: 0;overflow: hidden;text-align: left;background-color: #f0f8ff;}#sk-container-id-9 div.sk-toggleable__content pre {margin: 0.2em;color: black;border-radius: 0.25em;background-color: #f0f8ff;}#sk-container-id-9 input.sk-toggleable__control:checked~div.sk-toggleable__content {max-height: 200px;max-width: 100%;overflow: auto;}#sk-container-id-9 input.sk-toggleable__control:checked~label.sk-toggleable__label-arrow:before {content: \"▾\";}#sk-container-id-9 div.sk-estimator input.sk-toggleable__control:checked~label.sk-toggleable__label {background-color: #d4ebff;}#sk-container-id-9 div.sk-label input.sk-toggleable__control:checked~label.sk-toggleable__label {background-color: #d4ebff;}#sk-container-id-9 input.sk-hidden--visually {border: 0;clip: rect(1px 1px 1px 1px);clip: rect(1px, 1px, 1px, 1px);height: 1px;margin: -1px;overflow: hidden;padding: 0;position: absolute;width: 1px;}#sk-container-id-9 div.sk-estimator {font-family: monospace;background-color: #f0f8ff;border: 1px dotted black;border-radius: 0.25em;box-sizing: border-box;margin-bottom: 0.5em;}#sk-container-id-9 div.sk-estimator:hover {background-color: #d4ebff;}#sk-container-id-9 div.sk-parallel-item::after {content: \"\";width: 100%;border-bottom: 1px solid gray;flex-grow: 1;}#sk-container-id-9 div.sk-label:hover label.sk-toggleable__label {background-color: #d4ebff;}#sk-container-id-9 div.sk-serial::before {content: \"\";position: absolute;border-left: 1px solid gray;box-sizing: border-box;top: 0;bottom: 0;left: 50%;z-index: 0;}#sk-container-id-9 div.sk-serial {display: flex;flex-direction: column;align-items: center;background-color: white;padding-right: 0.2em;padding-left: 0.2em;position: relative;}#sk-container-id-9 div.sk-item {position: relative;z-index: 1;}#sk-container-id-9 div.sk-parallel {display: flex;align-items: stretch;justify-content: center;background-color: white;position: relative;}#sk-container-id-9 div.sk-item::before, #sk-container-id-9 div.sk-parallel-item::before {content: \"\";position: absolute;border-left: 1px solid gray;box-sizing: border-box;top: 0;bottom: 0;left: 50%;z-index: -1;}#sk-container-id-9 div.sk-parallel-item {display: flex;flex-direction: column;z-index: 1;position: relative;background-color: white;}#sk-container-id-9 div.sk-parallel-item:first-child::after {align-self: flex-end;width: 50%;}#sk-container-id-9 div.sk-parallel-item:last-child::after {align-self: flex-start;width: 50%;}#sk-container-id-9 div.sk-parallel-item:only-child::after {width: 0;}#sk-container-id-9 div.sk-dashed-wrapped {border: 1px dashed gray;margin: 0 0.4em 0.5em 0.4em;box-sizing: border-box;padding-bottom: 0.4em;background-color: white;}#sk-container-id-9 div.sk-label label {font-family: monospace;font-weight: bold;display: inline-block;line-height: 1.2em;}#sk-container-id-9 div.sk-label-container {text-align: center;}#sk-container-id-9 div.sk-container {/* jupyter's `normalize.less` sets `[hidden] { display: none; }` but bootstrap.min.css set `[hidden] { display: none !important; }` so we also need the `!important` here to be able to override the default hidden behavior on the sphinx rendered scikit-learn.org. See: https://github.com/scikit-learn/scikit-learn/issues/21755 */display: inline-block !important;position: relative;}#sk-container-id-9 div.sk-text-repr-fallback {display: none;}</style><div id=\"sk-container-id-9\" class=\"sk-top-container\"><div class=\"sk-text-repr-fallback\"><pre>GridSearchCV(cv=3,\n",
              "             estimator=Pipeline(steps=[(&#x27;vectorizer&#x27;, CountVectorizer()),\n",
              "                                       (&#x27;classifier&#x27;, MultinomialNB())]),\n",
              "             n_jobs=-1,\n",
              "             param_grid={&#x27;classifier__alpha&#x27;: array([0.01 , 0.045, 0.08 , 0.115, 0.15 ]),\n",
              "                         &#x27;vectorizer__max_df&#x27;: array([0.035  , 0.03875, 0.0425 , 0.04625, 0.05   ]),\n",
              "                         &#x27;vectorizer__min_df&#x27;: [1]},\n",
              "             scoring=&#x27;accuracy&#x27;, verbose=10)</pre><b>In a Jupyter environment, please rerun this cell to show the HTML representation or trust the notebook. <br />On GitHub, the HTML representation is unable to render, please try loading this page with nbviewer.org.</b></div><div class=\"sk-container\" hidden><div class=\"sk-item sk-dashed-wrapped\"><div class=\"sk-label-container\"><div class=\"sk-label sk-toggleable\"><input class=\"sk-toggleable__control sk-hidden--visually\" id=\"sk-estimator-id-21\" type=\"checkbox\" ><label for=\"sk-estimator-id-21\" class=\"sk-toggleable__label sk-toggleable__label-arrow\">GridSearchCV</label><div class=\"sk-toggleable__content\"><pre>GridSearchCV(cv=3,\n",
              "             estimator=Pipeline(steps=[(&#x27;vectorizer&#x27;, CountVectorizer()),\n",
              "                                       (&#x27;classifier&#x27;, MultinomialNB())]),\n",
              "             n_jobs=-1,\n",
              "             param_grid={&#x27;classifier__alpha&#x27;: array([0.01 , 0.045, 0.08 , 0.115, 0.15 ]),\n",
              "                         &#x27;vectorizer__max_df&#x27;: array([0.035  , 0.03875, 0.0425 , 0.04625, 0.05   ]),\n",
              "                         &#x27;vectorizer__min_df&#x27;: [1]},\n",
              "             scoring=&#x27;accuracy&#x27;, verbose=10)</pre></div></div></div><div class=\"sk-parallel\"><div class=\"sk-parallel-item\"><div class=\"sk-item\"><div class=\"sk-label-container\"><div class=\"sk-label sk-toggleable\"><input class=\"sk-toggleable__control sk-hidden--visually\" id=\"sk-estimator-id-22\" type=\"checkbox\" ><label for=\"sk-estimator-id-22\" class=\"sk-toggleable__label sk-toggleable__label-arrow\">estimator: Pipeline</label><div class=\"sk-toggleable__content\"><pre>Pipeline(steps=[(&#x27;vectorizer&#x27;, CountVectorizer()),\n",
              "                (&#x27;classifier&#x27;, MultinomialNB())])</pre></div></div></div><div class=\"sk-serial\"><div class=\"sk-item\"><div class=\"sk-serial\"><div class=\"sk-item\"><div class=\"sk-estimator sk-toggleable\"><input class=\"sk-toggleable__control sk-hidden--visually\" id=\"sk-estimator-id-23\" type=\"checkbox\" ><label for=\"sk-estimator-id-23\" class=\"sk-toggleable__label sk-toggleable__label-arrow\">CountVectorizer</label><div class=\"sk-toggleable__content\"><pre>CountVectorizer()</pre></div></div></div><div class=\"sk-item\"><div class=\"sk-estimator sk-toggleable\"><input class=\"sk-toggleable__control sk-hidden--visually\" id=\"sk-estimator-id-24\" type=\"checkbox\" ><label for=\"sk-estimator-id-24\" class=\"sk-toggleable__label sk-toggleable__label-arrow\">MultinomialNB</label><div class=\"sk-toggleable__content\"><pre>MultinomialNB()</pre></div></div></div></div></div></div></div></div></div></div></div></div>"
            ]
          },
          "metadata": {},
          "execution_count": 32
        }
      ],
      "source": [
        "from sklearn.pipeline import Pipeline\n",
        "from sklearn.model_selection import GridSearchCV\n",
        "from sklearn.naive_bayes import MultinomialNB\n",
        "\n",
        "#### Count Vectorizer  ---> Max df y Min df\n",
        "#max_df: Límite en la frecuencia máxima de documento de las palabras.\n",
        "#        Se eliminan las palabras que aparezcan en más del max_df% de los documentos.\n",
        "#min_df: Límite en la frecuencia mínima de documento de las palabras.\n",
        "#        Se eliminan las palabras que aparezcan en menos del min_df% de los documentos.\n",
        "\n",
        "#### MultinomialNB   ---> alpha\n",
        "# alpha: suavizado de la sprobabilidades\n",
        "CountVctr = CountVectorizer()\n",
        "MNBmodel = MultinomialNB()\n",
        "\n",
        "param_grid = {\n",
        "                #'vectorizer__max_df' : [0.15],\n",
        "                'vectorizer__max_df' : np.linspace(0.035, 0.050, num=5),\n",
        "                'vectorizer__min_df' : [1],\n",
        "                #'classifier__alpha': [ 0.005 , 0.000015]\n",
        "                'classifier__alpha' : np.linspace(0.010, 0.15, num=5)\n",
        "              }\n",
        "\n",
        "pipeline = Pipeline([\n",
        "    ('vectorizer', CountVctr),\n",
        "    ('classifier', MNBmodel)\n",
        "])\n",
        "\n",
        "gridSearch = GridSearchCV(pipeline, param_grid, scoring='accuracy', cv=3, n_jobs=-1, verbose=10, refit = True)\n",
        "gridSearch.fit(articulos_filtrados_train, twenty_train[\"target\"])  # Fit the training data\n"
      ]
    },
    {
      "cell_type": "code",
      "execution_count": null,
      "metadata": {
        "id": "9pWobbSdfbP5",
        "colab": {
          "base_uri": "https://localhost:8080/",
          "height": 596
        },
        "outputId": "cbb5e457-c1a9-4265-ad0b-20cbdd44659b"
      },
      "outputs": [
        {
          "output_type": "stream",
          "name": "stdout",
          "text": [
            "El mejor resultado fue: 0.691415313225058\n",
            "Best parameters:\n",
            "Best min df: 1\n",
            "Best max df: 0.0425\n",
            "Best alpha: 0.11499999999999998\n"
          ]
        },
        {
          "output_type": "display_data",
          "data": {
            "text/plain": [
              "<Figure size 640x480 with 1 Axes>"
            ],
            "image/png": "[encoded data removed]"
          },
          "metadata": {}
        },
        {
          "output_type": "execute_result",
          "data": {
            "text/plain": [
              "MultinomialNB(alpha=0.11499999999999998)"
            ],
            "text/html": [
              "<style>#sk-container-id-10 {color: black;background-color: white;}#sk-container-id-10 pre{padding: 0;}#sk-container-id-10 div.sk-toggleable {background-color: white;}#sk-container-id-10 label.sk-toggleable__label {cursor: pointer;display: block;width: 100%;margin-bottom: 0;padding: 0.3em;box-sizing: border-box;text-align: center;}#sk-container-id-10 label.sk-toggleable__label-arrow:before {content: \"▸\";float: left;margin-right: 0.25em;color: #696969;}#sk-container-id-10 label.sk-toggleable__label-arrow:hover:before {color: black;}#sk-container-id-10 div.sk-estimator:hover label.sk-toggleable__label-arrow:before {color: black;}#sk-container-id-10 div.sk-toggleable__content {max-height: 0;max-width: 0;overflow: hidden;text-align: left;background-color: #f0f8ff;}#sk-container-id-10 div.sk-toggleable__content pre {margin: 0.2em;color: black;border-radius: 0.25em;background-color: #f0f8ff;}#sk-container-id-10 input.sk-toggleable__control:checked~div.sk-toggleable__content {max-height: 200px;max-width: 100%;overflow: auto;}#sk-container-id-10 input.sk-toggleable__control:checked~label.sk-toggleable__label-arrow:before {content: \"▾\";}#sk-container-id-10 div.sk-estimator input.sk-toggleable__control:checked~label.sk-toggleable__label {background-color: #d4ebff;}#sk-container-id-10 div.sk-label input.sk-toggleable__control:checked~label.sk-toggleable__label {background-color: #d4ebff;}#sk-container-id-10 input.sk-hidden--visually {border: 0;clip: rect(1px 1px 1px 1px);clip: rect(1px, 1px, 1px, 1px);height: 1px;margin: -1px;overflow: hidden;padding: 0;position: absolute;width: 1px;}#sk-container-id-10 div.sk-estimator {font-family: monospace;background-color: #f0f8ff;border: 1px dotted black;border-radius: 0.25em;box-sizing: border-box;margin-bottom: 0.5em;}#sk-container-id-10 div.sk-estimator:hover {background-color: #d4ebff;}#sk-container-id-10 div.sk-parallel-item::after {content: \"\";width: 100%;border-bottom: 1px solid gray;flex-grow: 1;}#sk-container-id-10 div.sk-label:hover label.sk-toggleable__label {background-color: #d4ebff;}#sk-container-id-10 div.sk-serial::before {content: \"\";position: absolute;border-left: 1px solid gray;box-sizing: border-box;top: 0;bottom: 0;left: 50%;z-index: 0;}#sk-container-id-10 div.sk-serial {display: flex;flex-direction: column;align-items: center;background-color: white;padding-right: 0.2em;padding-left: 0.2em;position: relative;}#sk-container-id-10 div.sk-item {position: relative;z-index: 1;}#sk-container-id-10 div.sk-parallel {display: flex;align-items: stretch;justify-content: center;background-color: white;position: relative;}#sk-container-id-10 div.sk-item::before, #sk-container-id-10 div.sk-parallel-item::before {content: \"\";position: absolute;border-left: 1px solid gray;box-sizing: border-box;top: 0;bottom: 0;left: 50%;z-index: -1;}#sk-container-id-10 div.sk-parallel-item {display: flex;flex-direction: column;z-index: 1;position: relative;background-color: white;}#sk-container-id-10 div.sk-parallel-item:first-child::after {align-self: flex-end;width: 50%;}#sk-container-id-10 div.sk-parallel-item:last-child::after {align-self: flex-start;width: 50%;}#sk-container-id-10 div.sk-parallel-item:only-child::after {width: 0;}#sk-container-id-10 div.sk-dashed-wrapped {border: 1px dashed gray;margin: 0 0.4em 0.5em 0.4em;box-sizing: border-box;padding-bottom: 0.4em;background-color: white;}#sk-container-id-10 div.sk-label label {font-family: monospace;font-weight: bold;display: inline-block;line-height: 1.2em;}#sk-container-id-10 div.sk-label-container {text-align: center;}#sk-container-id-10 div.sk-container {/* jupyter's `normalize.less` sets `[hidden] { display: none; }` but bootstrap.min.css set `[hidden] { display: none !important; }` so we also need the `!important` here to be able to override the default hidden behavior on the sphinx rendered scikit-learn.org. See: https://github.com/scikit-learn/scikit-learn/issues/21755 */display: inline-block !important;position: relative;}#sk-container-id-10 div.sk-text-repr-fallback {display: none;}</style><div id=\"sk-container-id-10\" class=\"sk-top-container\"><div class=\"sk-text-repr-fallback\"><pre>MultinomialNB(alpha=0.11499999999999998)</pre><b>In a Jupyter environment, please rerun this cell to show the HTML representation or trust the notebook. <br />On GitHub, the HTML representation is unable to render, please try loading this page with nbviewer.org.</b></div><div class=\"sk-container\" hidden><div class=\"sk-item\"><div class=\"sk-estimator sk-toggleable\"><input class=\"sk-toggleable__control sk-hidden--visually\" id=\"sk-estimator-id-25\" type=\"checkbox\" checked><label for=\"sk-estimator-id-25\" class=\"sk-toggleable__label sk-toggleable__label-arrow\">MultinomialNB</label><div class=\"sk-toggleable__content\"><pre>MultinomialNB(alpha=0.11499999999999998)</pre></div></div></div></div></div>"
            ]
          },
          "metadata": {},
          "execution_count": 33
        }
      ],
      "source": [
        "print('El mejor resultado fue: {}'.format(gridSearch.best_score_))\n",
        "print('Best parameters:')\n",
        "best_parameters = gridSearch.best_estimator_.get_params()\n",
        "\n",
        "best_min_df = best_parameters['vectorizer__min_df']\n",
        "best_max_df = best_parameters['vectorizer__max_df']\n",
        "\n",
        "print(\"Best min df:\", best_min_df)\n",
        "print(\"Best max df:\", best_max_df)\n",
        "\n",
        "#best_min_df = 2\n",
        "#best_max_df = 0.15\n",
        "\n",
        "best_alpha = gridSearch.best_params_['classifier__alpha']\n",
        "print(\"Best alpha:\", best_alpha)\n",
        "\n",
        "###### OBTENGO EL MEJOR MODELO RESULTADO DEL GRID SEARCH #####\n",
        "#### Crear una matriz de términos-documentos --> Fit input samples\n",
        "# Con max_df y min_df obtenidos antes\n",
        "best_count_vectorizer = CountVectorizer(min_df=best_min_df, max_df=best_max_df)\n",
        "train_data_Vocab = best_count_vectorizer.fit_transform(articulos_filtrados_train)\n",
        "\n",
        "# Obtener los unigrams --> Frecuencia de palabras en todos los documentos en train\n",
        "doc_freq = np.array(train_data_Vocab.astype(bool).sum(axis=0)).flatten()\n",
        "\n",
        "a = plt.hist(doc_freq, bins=200,log=True)\n",
        "plt.title('Frecuencia de palabras en escala logaritmica')\n",
        "plt.show()\n",
        "\n",
        "##### ENTRENO #####\n",
        "best_model_pipeline = MultinomialNB(alpha = best_alpha)\n",
        "best_model_pipeline.fit(train_data_Vocab.toarray(), twenty_train[\"target\"])\n",
        "####################\n"
      ]
    },
    {
      "cell_type": "code",
      "execution_count": null,
      "metadata": {
        "id": "ERntqvPMLYV1",
        "colab": {
          "base_uri": "https://localhost:8080/"
        },
        "outputId": "c266b4f8-3e47-40f4-811c-f5efedb5178c"
      },
      "outputs": [
        {
          "output_type": "stream",
          "name": "stdout",
          "text": [
            "TRAIN\n",
            "El porcentaje de artículos clasificados correctamente es: 88.27753839354767%\n"
          ]
        }
      ],
      "source": [
        "porc=sum(np.array(best_model_pipeline.predict(train_data_Vocab.toarray()))==np.array(twenty_train[\"target\"]))/cantArticulosTrain*100\n",
        "print(\"TRAIN\\nEl porcentaje de artículos clasificados correctamente es: {}%\".format(porc))\n"
      ]
    },
    {
      "cell_type": "markdown",
      "metadata": {
        "id": "Kt1x9kiw7rVN"
      },
      "source": [
        "### Validation"
      ]
    },
    {
      "cell_type": "code",
      "execution_count": null,
      "metadata": {
        "id": "UD2b2ETZ7jgw",
        "colab": {
          "base_uri": "https://localhost:8080/"
        },
        "outputId": "839097d9-a970-489d-fd43-73c7cb24ab3c"
      },
      "outputs": [
        {
          "output_type": "stream",
          "name": "stdout",
          "text": [
            "VALIDATION\n",
            "Cantidad de articulos: 2263\n",
            "El porcentaje de artículos clasificados correctamente es: 72.20503756076006%\n"
          ]
        }
      ],
      "source": [
        "cantArticulosValidation = len(twenty_validation[\"data\"]) #Cantidad de artículos periodísticos\n",
        "print(\"VALIDATION\\nCantidad de articulos:\", cantArticulosValidation )\n",
        "validation_data_Vocab = best_count_vectorizer.transform(articulos_filtrados_validation)\n",
        "\n",
        "porc=sum(np.array(best_model_pipeline.predict(validation_data_Vocab.toarray()))==np.array(twenty_validation[\"target\"]))/cantArticulosValidation*100\n",
        "print(\"El porcentaje de artículos clasificados correctamente es: {}%\".format(porc))\n"
      ]
    },
    {
      "cell_type": "markdown",
      "metadata": {
        "id": "QjuSBNXw9sPv"
      },
      "source": [
        "## Test"
      ]
    },
    {
      "cell_type": "code",
      "execution_count": null,
      "metadata": {
        "id": "p_EGJYgf9tzi",
        "colab": {
          "base_uri": "https://localhost:8080/"
        },
        "outputId": "4d38c99b-2fc8-495a-e4d4-78a8c060678f"
      },
      "outputs": [
        {
          "output_type": "stream",
          "name": "stdout",
          "text": [
            "TEST\n",
            "Cantidad de articulos: 7532\n",
            "El porcentaje de artículos clasificados correctamente es: 65.2283590015932%\n"
          ]
        }
      ],
      "source": [
        "cantArticulosTest = len(twenty_test.data) #Cantidad de artículos periodísticos\n",
        "print(\"TEST\\nCantidad de articulos:\", cantArticulosTest )\n",
        "test_data_Vocab = best_count_vectorizer.transform(articulos_filtrados_test)\n",
        "\n",
        "porc=sum(np.array(best_model_pipeline.predict(test_data_Vocab.toarray()))==np.array(twenty_test[\"target\"]))/cantArticulosTest*100\n",
        "print(\"El porcentaje de artículos clasificados correctamente es: {}%\".format(porc))\n"
      ]
    },
    {
      "cell_type": "markdown",
      "metadata": {
        "id": "MbfYjrHk5bS9"
      },
      "source": [
        "# Logistic Regression con CV"
      ]
    },
    {
      "cell_type": "markdown",
      "metadata": {
        "id": "0_0WN6Ar5iI6"
      },
      "source": [
        "## Train"
      ]
    },
    {
      "cell_type": "markdown",
      "metadata": {
        "id": "8W2MeJfS5mUu"
      },
      "source": [
        "### Busqueda de Hiperparametros: max_df, min_df y C"
      ]
    },
    {
      "cell_type": "code",
      "execution_count": null,
      "metadata": {
        "id": "4_UsGy7q5m6D",
        "colab": {
          "base_uri": "https://localhost:8080/",
          "height": 170
        },
        "outputId": "87bd08d1-9be4-4985-bb9a-160a6283a3ed"
      },
      "outputs": [
        {
          "output_type": "stream",
          "name": "stdout",
          "text": [
            "Fitting 3 folds for each of 15 candidates, totalling 45 fits\n"
          ]
        },
        {
          "output_type": "execute_result",
          "data": {
            "text/plain": [
              "GridSearchCV(cv=3,\n",
              "             estimator=Pipeline(steps=[('vectorizer', CountVectorizer()),\n",
              "                                       ('classifier', LogisticRegression())]),\n",
              "             n_jobs=-1,\n",
              "             param_grid={'classifier__C': array([0.11, 0.13, 0.15]),\n",
              "                         'vectorizer__max_df': array([0.035 , 0.0375, 0.04  , 0.0425, 0.045 ]),\n",
              "                         'vectorizer__min_df': [1]},\n",
              "             scoring='accuracy', verbose=10)"
            ],
            "text/html": [
              "<style>#sk-container-id-11 {color: black;background-color: white;}#sk-container-id-11 pre{padding: 0;}#sk-container-id-11 div.sk-toggleable {background-color: white;}#sk-container-id-11 label.sk-toggleable__label {cursor: pointer;display: block;width: 100%;margin-bottom: 0;padding: 0.3em;box-sizing: border-box;text-align: center;}#sk-container-id-11 label.sk-toggleable__label-arrow:before {content: \"▸\";float: left;margin-right: 0.25em;color: #696969;}#sk-container-id-11 label.sk-toggleable__label-arrow:hover:before {color: black;}#sk-container-id-11 div.sk-estimator:hover label.sk-toggleable__label-arrow:before {color: black;}#sk-container-id-11 div.sk-toggleable__content {max-height: 0;max-width: 0;overflow: hidden;text-align: left;background-color: #f0f8ff;}#sk-container-id-11 div.sk-toggleable__content pre {margin: 0.2em;color: black;border-radius: 0.25em;background-color: #f0f8ff;}#sk-container-id-11 input.sk-toggleable__control:checked~div.sk-toggleable__content {max-height: 200px;max-width: 100%;overflow: auto;}#sk-container-id-11 input.sk-toggleable__control:checked~label.sk-toggleable__label-arrow:before {content: \"▾\";}#sk-container-id-11 div.sk-estimator input.sk-toggleable__control:checked~label.sk-toggleable__label {background-color: #d4ebff;}#sk-container-id-11 div.sk-label input.sk-toggleable__control:checked~label.sk-toggleable__label {background-color: #d4ebff;}#sk-container-id-11 input.sk-hidden--visually {border: 0;clip: rect(1px 1px 1px 1px);clip: rect(1px, 1px, 1px, 1px);height: 1px;margin: -1px;overflow: hidden;padding: 0;position: absolute;width: 1px;}#sk-container-id-11 div.sk-estimator {font-family: monospace;background-color: #f0f8ff;border: 1px dotted black;border-radius: 0.25em;box-sizing: border-box;margin-bottom: 0.5em;}#sk-container-id-11 div.sk-estimator:hover {background-color: #d4ebff;}#sk-container-id-11 div.sk-parallel-item::after {content: \"\";width: 100%;border-bottom: 1px solid gray;flex-grow: 1;}#sk-container-id-11 div.sk-label:hover label.sk-toggleable__label {background-color: #d4ebff;}#sk-container-id-11 div.sk-serial::before {content: \"\";position: absolute;border-left: 1px solid gray;box-sizing: border-box;top: 0;bottom: 0;left: 50%;z-index: 0;}#sk-container-id-11 div.sk-serial {display: flex;flex-direction: column;align-items: center;background-color: white;padding-right: 0.2em;padding-left: 0.2em;position: relative;}#sk-container-id-11 div.sk-item {position: relative;z-index: 1;}#sk-container-id-11 div.sk-parallel {display: flex;align-items: stretch;justify-content: center;background-color: white;position: relative;}#sk-container-id-11 div.sk-item::before, #sk-container-id-11 div.sk-parallel-item::before {content: \"\";position: absolute;border-left: 1px solid gray;box-sizing: border-box;top: 0;bottom: 0;left: 50%;z-index: -1;}#sk-container-id-11 div.sk-parallel-item {display: flex;flex-direction: column;z-index: 1;position: relative;background-color: white;}#sk-container-id-11 div.sk-parallel-item:first-child::after {align-self: flex-end;width: 50%;}#sk-container-id-11 div.sk-parallel-item:last-child::after {align-self: flex-start;width: 50%;}#sk-container-id-11 div.sk-parallel-item:only-child::after {width: 0;}#sk-container-id-11 div.sk-dashed-wrapped {border: 1px dashed gray;margin: 0 0.4em 0.5em 0.4em;box-sizing: border-box;padding-bottom: 0.4em;background-color: white;}#sk-container-id-11 div.sk-label label {font-family: monospace;font-weight: bold;display: inline-block;line-height: 1.2em;}#sk-container-id-11 div.sk-label-container {text-align: center;}#sk-container-id-11 div.sk-container {/* jupyter's `normalize.less` sets `[hidden] { display: none; }` but bootstrap.min.css set `[hidden] { display: none !important; }` so we also need the `!important` here to be able to override the default hidden behavior on the sphinx rendered scikit-learn.org. See: https://github.com/scikit-learn/scikit-learn/issues/21755 */display: inline-block !important;position: relative;}#sk-container-id-11 div.sk-text-repr-fallback {display: none;}</style><div id=\"sk-container-id-11\" class=\"sk-top-container\"><div class=\"sk-text-repr-fallback\"><pre>GridSearchCV(cv=3,\n",
              "             estimator=Pipeline(steps=[(&#x27;vectorizer&#x27;, CountVectorizer()),\n",
              "                                       (&#x27;classifier&#x27;, LogisticRegression())]),\n",
              "             n_jobs=-1,\n",
              "             param_grid={&#x27;classifier__C&#x27;: array([0.11, 0.13, 0.15]),\n",
              "                         &#x27;vectorizer__max_df&#x27;: array([0.035 , 0.0375, 0.04  , 0.0425, 0.045 ]),\n",
              "                         &#x27;vectorizer__min_df&#x27;: [1]},\n",
              "             scoring=&#x27;accuracy&#x27;, verbose=10)</pre><b>In a Jupyter environment, please rerun this cell to show the HTML representation or trust the notebook. <br />On GitHub, the HTML representation is unable to render, please try loading this page with nbviewer.org.</b></div><div class=\"sk-container\" hidden><div class=\"sk-item sk-dashed-wrapped\"><div class=\"sk-label-container\"><div class=\"sk-label sk-toggleable\"><input class=\"sk-toggleable__control sk-hidden--visually\" id=\"sk-estimator-id-26\" type=\"checkbox\" ><label for=\"sk-estimator-id-26\" class=\"sk-toggleable__label sk-toggleable__label-arrow\">GridSearchCV</label><div class=\"sk-toggleable__content\"><pre>GridSearchCV(cv=3,\n",
              "             estimator=Pipeline(steps=[(&#x27;vectorizer&#x27;, CountVectorizer()),\n",
              "                                       (&#x27;classifier&#x27;, LogisticRegression())]),\n",
              "             n_jobs=-1,\n",
              "             param_grid={&#x27;classifier__C&#x27;: array([0.11, 0.13, 0.15]),\n",
              "                         &#x27;vectorizer__max_df&#x27;: array([0.035 , 0.0375, 0.04  , 0.0425, 0.045 ]),\n",
              "                         &#x27;vectorizer__min_df&#x27;: [1]},\n",
              "             scoring=&#x27;accuracy&#x27;, verbose=10)</pre></div></div></div><div class=\"sk-parallel\"><div class=\"sk-parallel-item\"><div class=\"sk-item\"><div class=\"sk-label-container\"><div class=\"sk-label sk-toggleable\"><input class=\"sk-toggleable__control sk-hidden--visually\" id=\"sk-estimator-id-27\" type=\"checkbox\" ><label for=\"sk-estimator-id-27\" class=\"sk-toggleable__label sk-toggleable__label-arrow\">estimator: Pipeline</label><div class=\"sk-toggleable__content\"><pre>Pipeline(steps=[(&#x27;vectorizer&#x27;, CountVectorizer()),\n",
              "                (&#x27;classifier&#x27;, LogisticRegression())])</pre></div></div></div><div class=\"sk-serial\"><div class=\"sk-item\"><div class=\"sk-serial\"><div class=\"sk-item\"><div class=\"sk-estimator sk-toggleable\"><input class=\"sk-toggleable__control sk-hidden--visually\" id=\"sk-estimator-id-28\" type=\"checkbox\" ><label for=\"sk-estimator-id-28\" class=\"sk-toggleable__label sk-toggleable__label-arrow\">CountVectorizer</label><div class=\"sk-toggleable__content\"><pre>CountVectorizer()</pre></div></div></div><div class=\"sk-item\"><div class=\"sk-estimator sk-toggleable\"><input class=\"sk-toggleable__control sk-hidden--visually\" id=\"sk-estimator-id-29\" type=\"checkbox\" ><label for=\"sk-estimator-id-29\" class=\"sk-toggleable__label sk-toggleable__label-arrow\">LogisticRegression</label><div class=\"sk-toggleable__content\"><pre>LogisticRegression()</pre></div></div></div></div></div></div></div></div></div></div></div></div>"
            ]
          },
          "metadata": {},
          "execution_count": 37
        }
      ],
      "source": [
        "from sklearn.pipeline import Pipeline\n",
        "from sklearn.model_selection import GridSearchCV\n",
        "from sklearn.linear_model import LogisticRegression\n",
        "\n",
        "#### Count Vectorizer  ---> Max df y Min df\n",
        "#max_df: Límite en la frecuencia máxima de documento de las palabras.\n",
        "#        Se eliminan las palabras que aparezcan en más del max_df% de los documentos.\n",
        "#min_df: Límite en la frecuencia mínima de documento de las palabras.\n",
        "#        Se eliminan las palabras que aparezcan en menos del min_df% de los documentos.\n",
        "\n",
        "#### Logistic Regression --> C\n",
        "# La fuerza de regularizacion del modelo, cuanto castiga a los valores de los coeficientes\n",
        "\n",
        "CountVctr = CountVectorizer()\n",
        "Logismodel = LogisticRegression()\n",
        "\n",
        "param_grid = {\n",
        "                #'vectorizer__max_df' : [0.15],\n",
        "                'vectorizer__max_df' : np.linspace(0.035, 0.045, num=5),\n",
        "                #'vectorizer__min_df' : [1, 2, 3],\n",
        "                'vectorizer__min_df' : [1],\n",
        "                'classifier__C' : np.linspace(0.11, 0.15, num=3)\n",
        "              }\n",
        "\n",
        "pipeline = Pipeline([\n",
        "    ('vectorizer', CountVctr),\n",
        "    ('classifier', Logismodel)\n",
        "])\n",
        "\n",
        "gridSearch = GridSearchCV(pipeline, param_grid, scoring='accuracy', cv=3, n_jobs=-1, verbose=10, refit = True)\n",
        "gridSearch.fit(articulos_filtrados_train, twenty_train[\"target\"])  # Fit the training data\n"
      ]
    },
    {
      "cell_type": "code",
      "source": [
        "print('El mejor resultado fue: {}'.format(gridSearch.best_score_))\n",
        "print('Best parameters:')\n",
        "best_parameters = gridSearch.best_estimator_.get_params()\n",
        "\n",
        "best_min_df = best_parameters['vectorizer__min_df']\n",
        "best_max_df = best_parameters['vectorizer__max_df']\n",
        "\n",
        "print(\"Best min df:\", best_min_df)\n",
        "print(\"Best max df:\", best_max_df)\n",
        "\n",
        "#best_min_df = 2\n",
        "#best_max_df = 0.15\n",
        "\n",
        "best_C = gridSearch.best_params_['classifier__C']\n",
        "print(\"Best C:\", best_C)\n",
        "\n",
        "###### OBTENGO EL MEJOR MODELO RESULTADO DEL GRID SEARCH #####\n",
        "#### Crear una matriz de términos-documentos --> Fit input samples\n",
        "# Con max_df y min_df obtenidos antes\n",
        "best_count_vectorizer = CountVectorizer(min_df=best_min_df, max_df=best_max_df)\n",
        "train_data_Vocab = best_count_vectorizer.fit_transform(articulos_filtrados_train)\n",
        "\n",
        "# Obtener los unigrams --> Frecuencia de palabras en todos los documentos en train\n",
        "doc_freq = np.array(train_data_Vocab.astype(bool).sum(axis=0)).flatten()\n",
        "\n",
        "a = plt.hist(doc_freq, bins=200,log=True)\n",
        "plt.title('Frecuencia de palabras en escala logaritmica')\n",
        "plt.show()\n",
        "\n",
        "##### ENTRENO #####\n",
        "best_model_pipeline = LogisticRegression(C = best_C)\n",
        "best_model_pipeline.fit(train_data_Vocab.toarray(), twenty_train[\"target\"])\n",
        "####################"
      ],
      "metadata": {
        "colab": {
          "base_uri": "https://localhost:8080/",
          "height": 596
        },
        "id": "NblqcX0YXx9q",
        "outputId": "f38f6558-c002-44e2-a6b3-160aa507e501"
      },
      "execution_count": null,
      "outputs": [
        {
          "output_type": "stream",
          "name": "stdout",
          "text": [
            "El mejor resultado fue: 0.6665561816373882\n",
            "Best parameters:\n",
            "Best min df: 1\n",
            "Best max df: 0.042499999999999996\n",
            "Best C: 0.13\n"
          ]
        },
        {
          "output_type": "display_data",
          "data": {
            "text/plain": [
              "<Figure size 640x480 with 1 Axes>"
            ],
            "image/png": "[encoded data removed]"
          },
          "metadata": {}
        },
        {
          "output_type": "execute_result",
          "data": {
            "text/plain": [
              "LogisticRegression(C=0.13)"
            ],
            "text/html": [
              "<style>#sk-container-id-12 {color: black;background-color: white;}#sk-container-id-12 pre{padding: 0;}#sk-container-id-12 div.sk-toggleable {background-color: white;}#sk-container-id-12 label.sk-toggleable__label {cursor: pointer;display: block;width: 100%;margin-bottom: 0;padding: 0.3em;box-sizing: border-box;text-align: center;}#sk-container-id-12 label.sk-toggleable__label-arrow:before {content: \"▸\";float: left;margin-right: 0.25em;color: #696969;}#sk-container-id-12 label.sk-toggleable__label-arrow:hover:before {color: black;}#sk-container-id-12 div.sk-estimator:hover label.sk-toggleable__label-arrow:before {color: black;}#sk-container-id-12 div.sk-toggleable__content {max-height: 0;max-width: 0;overflow: hidden;text-align: left;background-color: #f0f8ff;}#sk-container-id-12 div.sk-toggleable__content pre {margin: 0.2em;color: black;border-radius: 0.25em;background-color: #f0f8ff;}#sk-container-id-12 input.sk-toggleable__control:checked~div.sk-toggleable__content {max-height: 200px;max-width: 100%;overflow: auto;}#sk-container-id-12 input.sk-toggleable__control:checked~label.sk-toggleable__label-arrow:before {content: \"▾\";}#sk-container-id-12 div.sk-estimator input.sk-toggleable__control:checked~label.sk-toggleable__label {background-color: #d4ebff;}#sk-container-id-12 div.sk-label input.sk-toggleable__control:checked~label.sk-toggleable__label {background-color: #d4ebff;}#sk-container-id-12 input.sk-hidden--visually {border: 0;clip: rect(1px 1px 1px 1px);clip: rect(1px, 1px, 1px, 1px);height: 1px;margin: -1px;overflow: hidden;padding: 0;position: absolute;width: 1px;}#sk-container-id-12 div.sk-estimator {font-family: monospace;background-color: #f0f8ff;border: 1px dotted black;border-radius: 0.25em;box-sizing: border-box;margin-bottom: 0.5em;}#sk-container-id-12 div.sk-estimator:hover {background-color: #d4ebff;}#sk-container-id-12 div.sk-parallel-item::after {content: \"\";width: 100%;border-bottom: 1px solid gray;flex-grow: 1;}#sk-container-id-12 div.sk-label:hover label.sk-toggleable__label {background-color: #d4ebff;}#sk-container-id-12 div.sk-serial::before {content: \"\";position: absolute;border-left: 1px solid gray;box-sizing: border-box;top: 0;bottom: 0;left: 50%;z-index: 0;}#sk-container-id-12 div.sk-serial {display: flex;flex-direction: column;align-items: center;background-color: white;padding-right: 0.2em;padding-left: 0.2em;position: relative;}#sk-container-id-12 div.sk-item {position: relative;z-index: 1;}#sk-container-id-12 div.sk-parallel {display: flex;align-items: stretch;justify-content: center;background-color: white;position: relative;}#sk-container-id-12 div.sk-item::before, #sk-container-id-12 div.sk-parallel-item::before {content: \"\";position: absolute;border-left: 1px solid gray;box-sizing: border-box;top: 0;bottom: 0;left: 50%;z-index: -1;}#sk-container-id-12 div.sk-parallel-item {display: flex;flex-direction: column;z-index: 1;position: relative;background-color: white;}#sk-container-id-12 div.sk-parallel-item:first-child::after {align-self: flex-end;width: 50%;}#sk-container-id-12 div.sk-parallel-item:last-child::after {align-self: flex-start;width: 50%;}#sk-container-id-12 div.sk-parallel-item:only-child::after {width: 0;}#sk-container-id-12 div.sk-dashed-wrapped {border: 1px dashed gray;margin: 0 0.4em 0.5em 0.4em;box-sizing: border-box;padding-bottom: 0.4em;background-color: white;}#sk-container-id-12 div.sk-label label {font-family: monospace;font-weight: bold;display: inline-block;line-height: 1.2em;}#sk-container-id-12 div.sk-label-container {text-align: center;}#sk-container-id-12 div.sk-container {/* jupyter's `normalize.less` sets `[hidden] { display: none; }` but bootstrap.min.css set `[hidden] { display: none !important; }` so we also need the `!important` here to be able to override the default hidden behavior on the sphinx rendered scikit-learn.org. See: https://github.com/scikit-learn/scikit-learn/issues/21755 */display: inline-block !important;position: relative;}#sk-container-id-12 div.sk-text-repr-fallback {display: none;}</style><div id=\"sk-container-id-12\" class=\"sk-top-container\"><div class=\"sk-text-repr-fallback\"><pre>LogisticRegression(C=0.13)</pre><b>In a Jupyter environment, please rerun this cell to show the HTML representation or trust the notebook. <br />On GitHub, the HTML representation is unable to render, please try loading this page with nbviewer.org.</b></div><div class=\"sk-container\" hidden><div class=\"sk-item\"><div class=\"sk-estimator sk-toggleable\"><input class=\"sk-toggleable__control sk-hidden--visually\" id=\"sk-estimator-id-30\" type=\"checkbox\" checked><label for=\"sk-estimator-id-30\" class=\"sk-toggleable__label sk-toggleable__label-arrow\">LogisticRegression</label><div class=\"sk-toggleable__content\"><pre>LogisticRegression(C=0.13)</pre></div></div></div></div></div>"
            ]
          },
          "metadata": {},
          "execution_count": 38
        }
      ]
    },
    {
      "cell_type": "code",
      "source": [
        "porc=sum(np.array(best_model_pipeline.predict(train_data_Vocab.toarray()))==np.array(twenty_train[\"target\"]))/cantArticulosTrain*100\n",
        "print(\"TRAIN\\nEl porcentaje de artículos clasificados correctamente es: {}%\".format(porc))"
      ],
      "metadata": {
        "colab": {
          "base_uri": "https://localhost:8080/"
        },
        "id": "OmCMAEsHYLJM",
        "outputId": "11e88005-cde7-4338-d95b-d70d0363f7ac"
      },
      "execution_count": null,
      "outputs": [
        {
          "output_type": "stream",
          "name": "stdout",
          "text": [
            "TRAIN\n",
            "El porcentaje de artículos clasificados correctamente es: 91.97878687437853%\n"
          ]
        }
      ]
    },
    {
      "cell_type": "markdown",
      "metadata": {
        "id": "E1h3dofX5p-n"
      },
      "source": [
        "### Validation"
      ]
    },
    {
      "cell_type": "code",
      "execution_count": null,
      "metadata": {
        "id": "krJiJuOc5rQw",
        "colab": {
          "base_uri": "https://localhost:8080/"
        },
        "outputId": "29229d84-c66b-495f-91c3-b117d6e951f7"
      },
      "outputs": [
        {
          "output_type": "stream",
          "name": "stdout",
          "text": [
            "VALIDATION\n",
            "Cantidad de articulos: 2263\n",
            "El porcentaje de artículos clasificados correctamente es: 69.06760936809545%\n"
          ]
        }
      ],
      "source": [
        "cantArticulosValidation = len(twenty_validation[\"data\"]) #Cantidad de artículos periodísticos\n",
        "print(\"VALIDATION\\nCantidad de articulos:\", cantArticulosValidation )\n",
        "validation_data_Vocab = best_count_vectorizer.transform(articulos_filtrados_validation)\n",
        "\n",
        "porc=sum(np.array(best_model_pipeline.predict(validation_data_Vocab.toarray()))==np.array(twenty_validation[\"target\"]))/cantArticulosValidation*100\n",
        "print(\"El porcentaje de artículos clasificados correctamente es: {}%\".format(porc))"
      ]
    },
    {
      "cell_type": "markdown",
      "metadata": {
        "id": "JnhJERSH5vgM"
      },
      "source": [
        "## Test"
      ]
    },
    {
      "cell_type": "code",
      "execution_count": null,
      "metadata": {
        "id": "146M6hf75wop",
        "colab": {
          "base_uri": "https://localhost:8080/"
        },
        "outputId": "d46d53b3-c4b1-4694-b064-e70b875532d2"
      },
      "outputs": [
        {
          "output_type": "stream",
          "name": "stdout",
          "text": [
            "TEST\n",
            "Cantidad de articulos: 7532\n",
            "El porcentaje de artículos clasificados correctamente es: 62.519915029208704%\n"
          ]
        }
      ],
      "source": [
        "cantArticulosTest = len(twenty_test.data) #Cantidad de artículos periodísticos\n",
        "print(\"TEST\\nCantidad de articulos:\", cantArticulosTest )\n",
        "test_data_Vocab = best_count_vectorizer.transform(articulos_filtrados_test)\n",
        "\n",
        "porc=sum(np.array(best_model_pipeline.predict(test_data_Vocab.toarray()))==np.array(twenty_test[\"target\"]))/cantArticulosTest*100\n",
        "print(\"El porcentaje de artículos clasificados correctamente es: {}%\".format(porc))"
      ]
    },
    {
      "cell_type": "markdown",
      "source": [
        "# Multinomial Naive Bayes con TF IDF"
      ],
      "metadata": {
        "id": "2-ZJJIEogaqp"
      }
    },
    {
      "cell_type": "markdown",
      "source": [
        "## Train"
      ],
      "metadata": {
        "id": "QX5ZmuPb_I78"
      }
    },
    {
      "cell_type": "markdown",
      "source": [
        "### Busqueda de Hiperparametros: max_df, min_df y alpha"
      ],
      "metadata": {
        "id": "-bPYRbLA_Kzu"
      }
    },
    {
      "cell_type": "code",
      "source": [
        "from sklearn.pipeline import Pipeline\n",
        "from sklearn.model_selection import GridSearchCV\n",
        "from sklearn.naive_bayes import MultinomialNB\n",
        "from sklearn.feature_extraction.text import TfidfVectorizer\n",
        "\n",
        "#### Count Vectorizer  ---> Max df y Min df\n",
        "#max_df: Límite en la frecuencia máxima de documento de las palabras.\n",
        "#        Se eliminan las palabras que aparezcan en más del max_df% de los documentos.\n",
        "#min_df: Límite en la frecuencia mínima de documento de las palabras.\n",
        "#        Se eliminan las palabras que aparezcan en menos del min_df% de los documentos.\n",
        "\n",
        "#### MultinomialNB   ---> alpha\n",
        "# alpha: suavizado de la sprobabilidades\n",
        "TfidfVctr = TfidfVectorizer()\n",
        "MNBmodel = MultinomialNB()\n",
        "\n",
        "param_grid = {\n",
        "                #'vectorizer__max_df' : [0.15],\n",
        "                'vectorizer__max_df' : np.linspace(0.3, 0.4, num=5),\n",
        "                #'vectorizer__min_df' : [1,2,3],\n",
        "                'vectorizer__min_df' : [1],\n",
        "                #'classifier__alpha': [ 0.005 , 0.000015]\n",
        "                'classifier__alpha' : np.linspace(0.02, 0.03, num=5)\n",
        "              }\n",
        "\n",
        "pipeline = Pipeline([\n",
        "    ('vectorizer', TfidfVctr),\n",
        "    ('classifier', MNBmodel)\n",
        "])\n",
        "\n",
        "gridSearch = GridSearchCV(pipeline, param_grid, scoring='accuracy', cv=3, n_jobs=-1, verbose=10, refit = True)\n",
        "gridSearch.fit(articulos_filtrados_train, twenty_train[\"target\"])  # Fit the training data"
      ],
      "metadata": {
        "colab": {
          "base_uri": "https://localhost:8080/",
          "height": 170
        },
        "id": "_RgkU0llgfQK",
        "outputId": "dcec1fa1-afa9-4503-eef2-012f762b22ae"
      },
      "execution_count": null,
      "outputs": [
        {
          "output_type": "stream",
          "name": "stdout",
          "text": [
            "Fitting 3 folds for each of 25 candidates, totalling 75 fits\n"
          ]
        },
        {
          "output_type": "execute_result",
          "data": {
            "text/plain": [
              "GridSearchCV(cv=3,\n",
              "             estimator=Pipeline(steps=[('vectorizer', TfidfVectorizer()),\n",
              "                                       ('classifier', MultinomialNB())]),\n",
              "             n_jobs=-1,\n",
              "             param_grid={'classifier__alpha': array([0.02  , 0.0225, 0.025 , 0.0275, 0.03  ]),\n",
              "                         'vectorizer__max_df': array([0.3  , 0.325, 0.35 , 0.375, 0.4  ]),\n",
              "                         'vectorizer__min_df': [1]},\n",
              "             scoring='accuracy', verbose=10)"
            ],
            "text/html": [
              "<style>#sk-container-id-19 {color: black;background-color: white;}#sk-container-id-19 pre{padding: 0;}#sk-container-id-19 div.sk-toggleable {background-color: white;}#sk-container-id-19 label.sk-toggleable__label {cursor: pointer;display: block;width: 100%;margin-bottom: 0;padding: 0.3em;box-sizing: border-box;text-align: center;}#sk-container-id-19 label.sk-toggleable__label-arrow:before {content: \"▸\";float: left;margin-right: 0.25em;color: #696969;}#sk-container-id-19 label.sk-toggleable__label-arrow:hover:before {color: black;}#sk-container-id-19 div.sk-estimator:hover label.sk-toggleable__label-arrow:before {color: black;}#sk-container-id-19 div.sk-toggleable__content {max-height: 0;max-width: 0;overflow: hidden;text-align: left;background-color: #f0f8ff;}#sk-container-id-19 div.sk-toggleable__content pre {margin: 0.2em;color: black;border-radius: 0.25em;background-color: #f0f8ff;}#sk-container-id-19 input.sk-toggleable__control:checked~div.sk-toggleable__content {max-height: 200px;max-width: 100%;overflow: auto;}#sk-container-id-19 input.sk-toggleable__control:checked~label.sk-toggleable__label-arrow:before {content: \"▾\";}#sk-container-id-19 div.sk-estimator input.sk-toggleable__control:checked~label.sk-toggleable__label {background-color: #d4ebff;}#sk-container-id-19 div.sk-label input.sk-toggleable__control:checked~label.sk-toggleable__label {background-color: #d4ebff;}#sk-container-id-19 input.sk-hidden--visually {border: 0;clip: rect(1px 1px 1px 1px);clip: rect(1px, 1px, 1px, 1px);height: 1px;margin: -1px;overflow: hidden;padding: 0;position: absolute;width: 1px;}#sk-container-id-19 div.sk-estimator {font-family: monospace;background-color: #f0f8ff;border: 1px dotted black;border-radius: 0.25em;box-sizing: border-box;margin-bottom: 0.5em;}#sk-container-id-19 div.sk-estimator:hover {background-color: #d4ebff;}#sk-container-id-19 div.sk-parallel-item::after {content: \"\";width: 100%;border-bottom: 1px solid gray;flex-grow: 1;}#sk-container-id-19 div.sk-label:hover label.sk-toggleable__label {background-color: #d4ebff;}#sk-container-id-19 div.sk-serial::before {content: \"\";position: absolute;border-left: 1px solid gray;box-sizing: border-box;top: 0;bottom: 0;left: 50%;z-index: 0;}#sk-container-id-19 div.sk-serial {display: flex;flex-direction: column;align-items: center;background-color: white;padding-right: 0.2em;padding-left: 0.2em;position: relative;}#sk-container-id-19 div.sk-item {position: relative;z-index: 1;}#sk-container-id-19 div.sk-parallel {display: flex;align-items: stretch;justify-content: center;background-color: white;position: relative;}#sk-container-id-19 div.sk-item::before, #sk-container-id-19 div.sk-parallel-item::before {content: \"\";position: absolute;border-left: 1px solid gray;box-sizing: border-box;top: 0;bottom: 0;left: 50%;z-index: -1;}#sk-container-id-19 div.sk-parallel-item {display: flex;flex-direction: column;z-index: 1;position: relative;background-color: white;}#sk-container-id-19 div.sk-parallel-item:first-child::after {align-self: flex-end;width: 50%;}#sk-container-id-19 div.sk-parallel-item:last-child::after {align-self: flex-start;width: 50%;}#sk-container-id-19 div.sk-parallel-item:only-child::after {width: 0;}#sk-container-id-19 div.sk-dashed-wrapped {border: 1px dashed gray;margin: 0 0.4em 0.5em 0.4em;box-sizing: border-box;padding-bottom: 0.4em;background-color: white;}#sk-container-id-19 div.sk-label label {font-family: monospace;font-weight: bold;display: inline-block;line-height: 1.2em;}#sk-container-id-19 div.sk-label-container {text-align: center;}#sk-container-id-19 div.sk-container {/* jupyter's `normalize.less` sets `[hidden] { display: none; }` but bootstrap.min.css set `[hidden] { display: none !important; }` so we also need the `!important` here to be able to override the default hidden behavior on the sphinx rendered scikit-learn.org. See: https://github.com/scikit-learn/scikit-learn/issues/21755 */display: inline-block !important;position: relative;}#sk-container-id-19 div.sk-text-repr-fallback {display: none;}</style><div id=\"sk-container-id-19\" class=\"sk-top-container\"><div class=\"sk-text-repr-fallback\"><pre>GridSearchCV(cv=3,\n",
              "             estimator=Pipeline(steps=[(&#x27;vectorizer&#x27;, TfidfVectorizer()),\n",
              "                                       (&#x27;classifier&#x27;, MultinomialNB())]),\n",
              "             n_jobs=-1,\n",
              "             param_grid={&#x27;classifier__alpha&#x27;: array([0.02  , 0.0225, 0.025 , 0.0275, 0.03  ]),\n",
              "                         &#x27;vectorizer__max_df&#x27;: array([0.3  , 0.325, 0.35 , 0.375, 0.4  ]),\n",
              "                         &#x27;vectorizer__min_df&#x27;: [1]},\n",
              "             scoring=&#x27;accuracy&#x27;, verbose=10)</pre><b>In a Jupyter environment, please rerun this cell to show the HTML representation or trust the notebook. <br />On GitHub, the HTML representation is unable to render, please try loading this page with nbviewer.org.</b></div><div class=\"sk-container\" hidden><div class=\"sk-item sk-dashed-wrapped\"><div class=\"sk-label-container\"><div class=\"sk-label sk-toggleable\"><input class=\"sk-toggleable__control sk-hidden--visually\" id=\"sk-estimator-id-46\" type=\"checkbox\" ><label for=\"sk-estimator-id-46\" class=\"sk-toggleable__label sk-toggleable__label-arrow\">GridSearchCV</label><div class=\"sk-toggleable__content\"><pre>GridSearchCV(cv=3,\n",
              "             estimator=Pipeline(steps=[(&#x27;vectorizer&#x27;, TfidfVectorizer()),\n",
              "                                       (&#x27;classifier&#x27;, MultinomialNB())]),\n",
              "             n_jobs=-1,\n",
              "             param_grid={&#x27;classifier__alpha&#x27;: array([0.02  , 0.0225, 0.025 , 0.0275, 0.03  ]),\n",
              "                         &#x27;vectorizer__max_df&#x27;: array([0.3  , 0.325, 0.35 , 0.375, 0.4  ]),\n",
              "                         &#x27;vectorizer__min_df&#x27;: [1]},\n",
              "             scoring=&#x27;accuracy&#x27;, verbose=10)</pre></div></div></div><div class=\"sk-parallel\"><div class=\"sk-parallel-item\"><div class=\"sk-item\"><div class=\"sk-label-container\"><div class=\"sk-label sk-toggleable\"><input class=\"sk-toggleable__control sk-hidden--visually\" id=\"sk-estimator-id-47\" type=\"checkbox\" ><label for=\"sk-estimator-id-47\" class=\"sk-toggleable__label sk-toggleable__label-arrow\">estimator: Pipeline</label><div class=\"sk-toggleable__content\"><pre>Pipeline(steps=[(&#x27;vectorizer&#x27;, TfidfVectorizer()),\n",
              "                (&#x27;classifier&#x27;, MultinomialNB())])</pre></div></div></div><div class=\"sk-serial\"><div class=\"sk-item\"><div class=\"sk-serial\"><div class=\"sk-item\"><div class=\"sk-estimator sk-toggleable\"><input class=\"sk-toggleable__control sk-hidden--visually\" id=\"sk-estimator-id-48\" type=\"checkbox\" ><label for=\"sk-estimator-id-48\" class=\"sk-toggleable__label sk-toggleable__label-arrow\">TfidfVectorizer</label><div class=\"sk-toggleable__content\"><pre>TfidfVectorizer()</pre></div></div></div><div class=\"sk-item\"><div class=\"sk-estimator sk-toggleable\"><input class=\"sk-toggleable__control sk-hidden--visually\" id=\"sk-estimator-id-49\" type=\"checkbox\" ><label for=\"sk-estimator-id-49\" class=\"sk-toggleable__label sk-toggleable__label-arrow\">MultinomialNB</label><div class=\"sk-toggleable__content\"><pre>MultinomialNB()</pre></div></div></div></div></div></div></div></div></div></div></div></div>"
            ]
          },
          "metadata": {},
          "execution_count": 60
        }
      ]
    },
    {
      "cell_type": "code",
      "source": [
        "print('El mejor resultado fue: {}'.format(gridSearch.best_score_))\n",
        "print('Best parameters:')\n",
        "best_parameters = gridSearch.best_estimator_.get_params()\n",
        "\n",
        "best_min_df = best_parameters['vectorizer__min_df']\n",
        "best_max_df = best_parameters['vectorizer__max_df']\n",
        "\n",
        "print(\"Best min df:\", best_min_df)\n",
        "print(\"Best max df:\", best_max_df)\n",
        "\n",
        "#best_min_df = 1\n",
        "#best_max_df = 0.4\n",
        "\n",
        "best_alpha = gridSearch.best_params_['classifier__alpha']\n",
        "print(\"Best alpha:\", best_alpha)\n",
        "\n",
        "###### OBTENGO EL MEJOR MODELO RESULTADO DEL GRID SEARCH #####\n",
        "#### Crear una matriz de términos-documentos --> Fit input samples\n",
        "# Con max_df y min_df obtenidos antes\n",
        "best_count_vectorizer = TfidfVectorizer(min_df=best_min_df, max_df=best_max_df)\n",
        "train_data_Vocab = best_count_vectorizer.fit_transform(articulos_filtrados_train)\n",
        "\n",
        "# Obtener los unigrams --> Frecuencia de palabras en todos los documentos en train\n",
        "doc_freq = np.array(train_data_Vocab.astype(bool).sum(axis=0)).flatten()\n",
        "\n",
        "a = plt.hist(doc_freq, bins=200,log=True)\n",
        "plt.title('Frecuencia de palabras en escala logaritmica')\n",
        "plt.show()\n",
        "\n",
        "##### ENTRENO #####\n",
        "best_model_pipeline = MultinomialNB(alpha = best_alpha)\n",
        "best_model_pipeline.fit(train_data_Vocab.toarray(), twenty_train[\"target\"])\n",
        "####################\n"
      ],
      "metadata": {
        "colab": {
          "base_uri": "https://localhost:8080/",
          "height": 596
        },
        "id": "7RDZuBJBirIo",
        "outputId": "8c051619-27b4-47c5-978d-e24193980f26"
      },
      "execution_count": null,
      "outputs": [
        {
          "output_type": "stream",
          "name": "stdout",
          "text": [
            "El mejor resultado fue: 0.7317423489117224\n",
            "Best parameters:\n",
            "Best min df: 1\n",
            "Best max df: 0.375\n",
            "Best alpha: 0.025\n"
          ]
        },
        {
          "output_type": "display_data",
          "data": {
            "text/plain": [
              "<Figure size 640x480 with 1 Axes>"
            ],
            "image/png": "[encoded data removed]"
          },
          "metadata": {}
        },
        {
          "output_type": "execute_result",
          "data": {
            "text/plain": [
              "MultinomialNB(alpha=0.025)"
            ],
            "text/html": [
              "<style>#sk-container-id-20 {color: black;background-color: white;}#sk-container-id-20 pre{padding: 0;}#sk-container-id-20 div.sk-toggleable {background-color: white;}#sk-container-id-20 label.sk-toggleable__label {cursor: pointer;display: block;width: 100%;margin-bottom: 0;padding: 0.3em;box-sizing: border-box;text-align: center;}#sk-container-id-20 label.sk-toggleable__label-arrow:before {content: \"▸\";float: left;margin-right: 0.25em;color: #696969;}#sk-container-id-20 label.sk-toggleable__label-arrow:hover:before {color: black;}#sk-container-id-20 div.sk-estimator:hover label.sk-toggleable__label-arrow:before {color: black;}#sk-container-id-20 div.sk-toggleable__content {max-height: 0;max-width: 0;overflow: hidden;text-align: left;background-color: #f0f8ff;}#sk-container-id-20 div.sk-toggleable__content pre {margin: 0.2em;color: black;border-radius: 0.25em;background-color: #f0f8ff;}#sk-container-id-20 input.sk-toggleable__control:checked~div.sk-toggleable__content {max-height: 200px;max-width: 100%;overflow: auto;}#sk-container-id-20 input.sk-toggleable__control:checked~label.sk-toggleable__label-arrow:before {content: \"▾\";}#sk-container-id-20 div.sk-estimator input.sk-toggleable__control:checked~label.sk-toggleable__label {background-color: #d4ebff;}#sk-container-id-20 div.sk-label input.sk-toggleable__control:checked~label.sk-toggleable__label {background-color: #d4ebff;}#sk-container-id-20 input.sk-hidden--visually {border: 0;clip: rect(1px 1px 1px 1px);clip: rect(1px, 1px, 1px, 1px);height: 1px;margin: -1px;overflow: hidden;padding: 0;position: absolute;width: 1px;}#sk-container-id-20 div.sk-estimator {font-family: monospace;background-color: #f0f8ff;border: 1px dotted black;border-radius: 0.25em;box-sizing: border-box;margin-bottom: 0.5em;}#sk-container-id-20 div.sk-estimator:hover {background-color: #d4ebff;}#sk-container-id-20 div.sk-parallel-item::after {content: \"\";width: 100%;border-bottom: 1px solid gray;flex-grow: 1;}#sk-container-id-20 div.sk-label:hover label.sk-toggleable__label {background-color: #d4ebff;}#sk-container-id-20 div.sk-serial::before {content: \"\";position: absolute;border-left: 1px solid gray;box-sizing: border-box;top: 0;bottom: 0;left: 50%;z-index: 0;}#sk-container-id-20 div.sk-serial {display: flex;flex-direction: column;align-items: center;background-color: white;padding-right: 0.2em;padding-left: 0.2em;position: relative;}#sk-container-id-20 div.sk-item {position: relative;z-index: 1;}#sk-container-id-20 div.sk-parallel {display: flex;align-items: stretch;justify-content: center;background-color: white;position: relative;}#sk-container-id-20 div.sk-item::before, #sk-container-id-20 div.sk-parallel-item::before {content: \"\";position: absolute;border-left: 1px solid gray;box-sizing: border-box;top: 0;bottom: 0;left: 50%;z-index: -1;}#sk-container-id-20 div.sk-parallel-item {display: flex;flex-direction: column;z-index: 1;position: relative;background-color: white;}#sk-container-id-20 div.sk-parallel-item:first-child::after {align-self: flex-end;width: 50%;}#sk-container-id-20 div.sk-parallel-item:last-child::after {align-self: flex-start;width: 50%;}#sk-container-id-20 div.sk-parallel-item:only-child::after {width: 0;}#sk-container-id-20 div.sk-dashed-wrapped {border: 1px dashed gray;margin: 0 0.4em 0.5em 0.4em;box-sizing: border-box;padding-bottom: 0.4em;background-color: white;}#sk-container-id-20 div.sk-label label {font-family: monospace;font-weight: bold;display: inline-block;line-height: 1.2em;}#sk-container-id-20 div.sk-label-container {text-align: center;}#sk-container-id-20 div.sk-container {/* jupyter's `normalize.less` sets `[hidden] { display: none; }` but bootstrap.min.css set `[hidden] { display: none !important; }` so we also need the `!important` here to be able to override the default hidden behavior on the sphinx rendered scikit-learn.org. See: https://github.com/scikit-learn/scikit-learn/issues/21755 */display: inline-block !important;position: relative;}#sk-container-id-20 div.sk-text-repr-fallback {display: none;}</style><div id=\"sk-container-id-20\" class=\"sk-top-container\"><div class=\"sk-text-repr-fallback\"><pre>MultinomialNB(alpha=0.025)</pre><b>In a Jupyter environment, please rerun this cell to show the HTML representation or trust the notebook. <br />On GitHub, the HTML representation is unable to render, please try loading this page with nbviewer.org.</b></div><div class=\"sk-container\" hidden><div class=\"sk-item\"><div class=\"sk-estimator sk-toggleable\"><input class=\"sk-toggleable__control sk-hidden--visually\" id=\"sk-estimator-id-50\" type=\"checkbox\" checked><label for=\"sk-estimator-id-50\" class=\"sk-toggleable__label sk-toggleable__label-arrow\">MultinomialNB</label><div class=\"sk-toggleable__content\"><pre>MultinomialNB(alpha=0.025)</pre></div></div></div></div></div>"
            ]
          },
          "metadata": {},
          "execution_count": 61
        }
      ]
    },
    {
      "cell_type": "code",
      "source": [
        "porc=sum(np.array(best_model_pipeline.predict(train_data_Vocab.toarray()))==np.array(twenty_train[\"target\"]))/cantArticulosTrain*100\n",
        "print(\"TRAIN\\nEl porcentaje de artículos clasificados correctamente es: {}%\".format(porc))"
      ],
      "metadata": {
        "colab": {
          "base_uri": "https://localhost:8080/"
        },
        "id": "KjZgZ76VjDBZ",
        "outputId": "38a7f803-0c9e-4cb8-a73a-fa88787206ea"
      },
      "execution_count": null,
      "outputs": [
        {
          "output_type": "stream",
          "name": "stdout",
          "text": [
            "TRAIN\n",
            "El porcentaje de artículos clasificados correctamente es: 94.49784554192907%\n"
          ]
        }
      ]
    },
    {
      "cell_type": "markdown",
      "source": [
        "### Validation"
      ],
      "metadata": {
        "id": "oF5WWoMKjDij"
      }
    },
    {
      "cell_type": "code",
      "source": [
        "cantArticulosValidation = len(twenty_validation[\"data\"]) #Cantidad de artículos periodísticos\n",
        "print(\"VALIDATION\\nCantidad de articulos:\", cantArticulosValidation )\n",
        "validation_data_Vocab = best_count_vectorizer.transform(articulos_filtrados_validation)\n",
        "\n",
        "porc=sum(np.array(best_model_pipeline.predict(validation_data_Vocab.toarray()))==np.array(twenty_validation[\"target\"]))/cantArticulosValidation*100\n",
        "print(\"El porcentaje de artículos clasificados correctamente es: {}%\".format(porc))"
      ],
      "metadata": {
        "colab": {
          "base_uri": "https://localhost:8080/"
        },
        "id": "eZiBMrnwjFCQ",
        "outputId": "871db564-4245-4fef-f31a-27ef4a961ba0"
      },
      "execution_count": null,
      "outputs": [
        {
          "output_type": "stream",
          "name": "stdout",
          "text": [
            "VALIDATION\n",
            "Cantidad de articulos: 2263\n",
            "El porcentaje de artículos clasificados correctamente es: 76.18205921343349%\n"
          ]
        }
      ]
    },
    {
      "cell_type": "markdown",
      "source": [
        "## Test"
      ],
      "metadata": {
        "id": "O7vrY3cLjH1O"
      }
    },
    {
      "cell_type": "code",
      "source": [
        "cantArticulosTest = len(twenty_test.data) #Cantidad de artículos periodísticos\n",
        "print(\"TEST\\nCantidad de articulos:\", cantArticulosTest )\n",
        "test_data_Vocab = best_count_vectorizer.transform(articulos_filtrados_test)\n",
        "\n",
        "porc=sum(np.array(best_model_pipeline.predict(test_data_Vocab.toarray()))==np.array(twenty_test[\"target\"]))/cantArticulosTest*100\n",
        "print(\"El porcentaje de artículos clasificados correctamente es: {}%\".format(porc))"
      ],
      "metadata": {
        "colab": {
          "base_uri": "https://localhost:8080/"
        },
        "id": "3NfeR7LSjI3A",
        "outputId": "c087b7f1-8290-4a20-9b99-604299bc0209"
      },
      "execution_count": null,
      "outputs": [
        {
          "output_type": "stream",
          "name": "stdout",
          "text": [
            "TEST\n",
            "Cantidad de articulos: 7532\n",
            "El porcentaje de artículos clasificados correctamente es: 68.75995751460435%\n"
          ]
        }
      ]
    },
    {
      "cell_type": "markdown",
      "source": [
        "# Logistic Regression con TF IDF\n",
        "\n"
      ],
      "metadata": {
        "id": "fjIZY0wjqJTr"
      }
    },
    {
      "cell_type": "markdown",
      "source": [
        "## Train"
      ],
      "metadata": {
        "id": "9syoQYTg_kmR"
      }
    },
    {
      "cell_type": "markdown",
      "source": [
        "### Busqueda de Hiperparametros: max_df, min_df y C"
      ],
      "metadata": {
        "id": "rxDk02d7_nor"
      }
    },
    {
      "cell_type": "code",
      "source": [
        "from sklearn.pipeline import Pipeline\n",
        "from sklearn.model_selection import GridSearchCV\n",
        "from sklearn.linear_model import LogisticRegression\n",
        "from sklearn.feature_extraction.text import TfidfVectorizer\n",
        "\n",
        "#### Count Vectorizer  ---> Max df y Min df\n",
        "#max_df: Límite en la frecuencia máxima de documento de las palabras.\n",
        "#        Se eliminan las palabras que aparezcan en más del max_df% de los documentos.\n",
        "#min_df: Límite en la frecuencia mínima de documento de las palabras.\n",
        "#        Se eliminan las palabras que aparezcan en menos del min_df% de los documentos.\n",
        "\n",
        "#### Logistic Regression --> C\n",
        "# La fuerza de regularizacion del modelo, cuanto castiga a los valores de los coeficientes\n",
        "\n",
        "TfidfVctr = TfidfVectorizer()\n",
        "Logismodel = LogisticRegression()\n",
        "\n",
        "param_grid = {\n",
        "                #'vectorizer__max_df' : [0.15],\n",
        "                'vectorizer__max_df' : np.linspace(0.05, 0.3, num=5),\n",
        "                #'vectorizer__min_df' : [1,2,3],\n",
        "                'vectorizer__min_df' : [1],\n",
        "                'classifier__C' : np.linspace(3, 6, num=3)\n",
        "              }\n",
        "\n",
        "pipeline = Pipeline([\n",
        "    ('vectorizer', TfidfVctr),\n",
        "    ('classifier', Logismodel)\n",
        "])\n",
        "\n",
        "gridSearch = GridSearchCV(pipeline, param_grid, scoring='accuracy', cv=3, n_jobs=-1, verbose=10, refit = True)\n",
        "gridSearch.fit(articulos_filtrados_train, twenty_train[\"target\"])  # Fit the training data"
      ],
      "metadata": {
        "colab": {
          "base_uri": "https://localhost:8080/",
          "height": 329
        },
        "outputId": "b1a298de-38a8-4034-b406-1edeba5fb690",
        "id": "b_n-EyFtqJTr"
      },
      "execution_count": null,
      "outputs": [
        {
          "output_type": "stream",
          "name": "stdout",
          "text": [
            "Fitting 3 folds for each of 15 candidates, totalling 45 fits\n"
          ]
        },
        {
          "output_type": "stream",
          "name": "stderr",
          "text": [
            "/usr/local/lib/python3.10/dist-packages/sklearn/linear_model/_logistic.py:458: ConvergenceWarning: lbfgs failed to converge (status=1):\n",
            "STOP: TOTAL NO. of ITERATIONS REACHED LIMIT.\n",
            "\n",
            "Increase the number of iterations (max_iter) or scale the data as shown in:\n",
            "    https://scikit-learn.org/stable/modules/preprocessing.html\n",
            "Please also refer to the documentation for alternative solver options:\n",
            "    https://scikit-learn.org/stable/modules/linear_model.html#logistic-regression\n",
            "  n_iter_i = _check_optimize_result(\n"
          ]
        },
        {
          "output_type": "execute_result",
          "data": {
            "text/plain": [
              "GridSearchCV(cv=3,\n",
              "             estimator=Pipeline(steps=[('vectorizer', TfidfVectorizer()),\n",
              "                                       ('classifier', LogisticRegression())]),\n",
              "             n_jobs=-1,\n",
              "             param_grid={'classifier__C': array([3. , 4.5, 6. ]),\n",
              "                         'vectorizer__max_df': array([0.05  , 0.1125, 0.175 , 0.2375, 0.3   ]),\n",
              "                         'vectorizer__min_df': [1]},\n",
              "             scoring='accuracy', verbose=10)"
            ],
            "text/html": [
              "<style>#sk-container-id-14 {color: black;background-color: white;}#sk-container-id-14 pre{padding: 0;}#sk-container-id-14 div.sk-toggleable {background-color: white;}#sk-container-id-14 label.sk-toggleable__label {cursor: pointer;display: block;width: 100%;margin-bottom: 0;padding: 0.3em;box-sizing: border-box;text-align: center;}#sk-container-id-14 label.sk-toggleable__label-arrow:before {content: \"▸\";float: left;margin-right: 0.25em;color: #696969;}#sk-container-id-14 label.sk-toggleable__label-arrow:hover:before {color: black;}#sk-container-id-14 div.sk-estimator:hover label.sk-toggleable__label-arrow:before {color: black;}#sk-container-id-14 div.sk-toggleable__content {max-height: 0;max-width: 0;overflow: hidden;text-align: left;background-color: #f0f8ff;}#sk-container-id-14 div.sk-toggleable__content pre {margin: 0.2em;color: black;border-radius: 0.25em;background-color: #f0f8ff;}#sk-container-id-14 input.sk-toggleable__control:checked~div.sk-toggleable__content {max-height: 200px;max-width: 100%;overflow: auto;}#sk-container-id-14 input.sk-toggleable__control:checked~label.sk-toggleable__label-arrow:before {content: \"▾\";}#sk-container-id-14 div.sk-estimator input.sk-toggleable__control:checked~label.sk-toggleable__label {background-color: #d4ebff;}#sk-container-id-14 div.sk-label input.sk-toggleable__control:checked~label.sk-toggleable__label {background-color: #d4ebff;}#sk-container-id-14 input.sk-hidden--visually {border: 0;clip: rect(1px 1px 1px 1px);clip: rect(1px, 1px, 1px, 1px);height: 1px;margin: -1px;overflow: hidden;padding: 0;position: absolute;width: 1px;}#sk-container-id-14 div.sk-estimator {font-family: monospace;background-color: #f0f8ff;border: 1px dotted black;border-radius: 0.25em;box-sizing: border-box;margin-bottom: 0.5em;}#sk-container-id-14 div.sk-estimator:hover {background-color: #d4ebff;}#sk-container-id-14 div.sk-parallel-item::after {content: \"\";width: 100%;border-bottom: 1px solid gray;flex-grow: 1;}#sk-container-id-14 div.sk-label:hover label.sk-toggleable__label {background-color: #d4ebff;}#sk-container-id-14 div.sk-serial::before {content: \"\";position: absolute;border-left: 1px solid gray;box-sizing: border-box;top: 0;bottom: 0;left: 50%;z-index: 0;}#sk-container-id-14 div.sk-serial {display: flex;flex-direction: column;align-items: center;background-color: white;padding-right: 0.2em;padding-left: 0.2em;position: relative;}#sk-container-id-14 div.sk-item {position: relative;z-index: 1;}#sk-container-id-14 div.sk-parallel {display: flex;align-items: stretch;justify-content: center;background-color: white;position: relative;}#sk-container-id-14 div.sk-item::before, #sk-container-id-14 div.sk-parallel-item::before {content: \"\";position: absolute;border-left: 1px solid gray;box-sizing: border-box;top: 0;bottom: 0;left: 50%;z-index: -1;}#sk-container-id-14 div.sk-parallel-item {display: flex;flex-direction: column;z-index: 1;position: relative;background-color: white;}#sk-container-id-14 div.sk-parallel-item:first-child::after {align-self: flex-end;width: 50%;}#sk-container-id-14 div.sk-parallel-item:last-child::after {align-self: flex-start;width: 50%;}#sk-container-id-14 div.sk-parallel-item:only-child::after {width: 0;}#sk-container-id-14 div.sk-dashed-wrapped {border: 1px dashed gray;margin: 0 0.4em 0.5em 0.4em;box-sizing: border-box;padding-bottom: 0.4em;background-color: white;}#sk-container-id-14 div.sk-label label {font-family: monospace;font-weight: bold;display: inline-block;line-height: 1.2em;}#sk-container-id-14 div.sk-label-container {text-align: center;}#sk-container-id-14 div.sk-container {/* jupyter's `normalize.less` sets `[hidden] { display: none; }` but bootstrap.min.css set `[hidden] { display: none !important; }` so we also need the `!important` here to be able to override the default hidden behavior on the sphinx rendered scikit-learn.org. See: https://github.com/scikit-learn/scikit-learn/issues/21755 */display: inline-block !important;position: relative;}#sk-container-id-14 div.sk-text-repr-fallback {display: none;}</style><div id=\"sk-container-id-14\" class=\"sk-top-container\"><div class=\"sk-text-repr-fallback\"><pre>GridSearchCV(cv=3,\n",
              "             estimator=Pipeline(steps=[(&#x27;vectorizer&#x27;, TfidfVectorizer()),\n",
              "                                       (&#x27;classifier&#x27;, LogisticRegression())]),\n",
              "             n_jobs=-1,\n",
              "             param_grid={&#x27;classifier__C&#x27;: array([3. , 4.5, 6. ]),\n",
              "                         &#x27;vectorizer__max_df&#x27;: array([0.05  , 0.1125, 0.175 , 0.2375, 0.3   ]),\n",
              "                         &#x27;vectorizer__min_df&#x27;: [1]},\n",
              "             scoring=&#x27;accuracy&#x27;, verbose=10)</pre><b>In a Jupyter environment, please rerun this cell to show the HTML representation or trust the notebook. <br />On GitHub, the HTML representation is unable to render, please try loading this page with nbviewer.org.</b></div><div class=\"sk-container\" hidden><div class=\"sk-item sk-dashed-wrapped\"><div class=\"sk-label-container\"><div class=\"sk-label sk-toggleable\"><input class=\"sk-toggleable__control sk-hidden--visually\" id=\"sk-estimator-id-35\" type=\"checkbox\" ><label for=\"sk-estimator-id-35\" class=\"sk-toggleable__label sk-toggleable__label-arrow\">GridSearchCV</label><div class=\"sk-toggleable__content\"><pre>GridSearchCV(cv=3,\n",
              "             estimator=Pipeline(steps=[(&#x27;vectorizer&#x27;, TfidfVectorizer()),\n",
              "                                       (&#x27;classifier&#x27;, LogisticRegression())]),\n",
              "             n_jobs=-1,\n",
              "             param_grid={&#x27;classifier__C&#x27;: array([3. , 4.5, 6. ]),\n",
              "                         &#x27;vectorizer__max_df&#x27;: array([0.05  , 0.1125, 0.175 , 0.2375, 0.3   ]),\n",
              "                         &#x27;vectorizer__min_df&#x27;: [1]},\n",
              "             scoring=&#x27;accuracy&#x27;, verbose=10)</pre></div></div></div><div class=\"sk-parallel\"><div class=\"sk-parallel-item\"><div class=\"sk-item\"><div class=\"sk-label-container\"><div class=\"sk-label sk-toggleable\"><input class=\"sk-toggleable__control sk-hidden--visually\" id=\"sk-estimator-id-36\" type=\"checkbox\" ><label for=\"sk-estimator-id-36\" class=\"sk-toggleable__label sk-toggleable__label-arrow\">estimator: Pipeline</label><div class=\"sk-toggleable__content\"><pre>Pipeline(steps=[(&#x27;vectorizer&#x27;, TfidfVectorizer()),\n",
              "                (&#x27;classifier&#x27;, LogisticRegression())])</pre></div></div></div><div class=\"sk-serial\"><div class=\"sk-item\"><div class=\"sk-serial\"><div class=\"sk-item\"><div class=\"sk-estimator sk-toggleable\"><input class=\"sk-toggleable__control sk-hidden--visually\" id=\"sk-estimator-id-37\" type=\"checkbox\" ><label for=\"sk-estimator-id-37\" class=\"sk-toggleable__label sk-toggleable__label-arrow\">TfidfVectorizer</label><div class=\"sk-toggleable__content\"><pre>TfidfVectorizer()</pre></div></div></div><div class=\"sk-item\"><div class=\"sk-estimator sk-toggleable\"><input class=\"sk-toggleable__control sk-hidden--visually\" id=\"sk-estimator-id-38\" type=\"checkbox\" ><label for=\"sk-estimator-id-38\" class=\"sk-toggleable__label sk-toggleable__label-arrow\">LogisticRegression</label><div class=\"sk-toggleable__content\"><pre>LogisticRegression()</pre></div></div></div></div></div></div></div></div></div></div></div></div>"
            ]
          },
          "metadata": {},
          "execution_count": 44
        }
      ]
    },
    {
      "cell_type": "code",
      "source": [
        "print('El mejor resultado fue: {}'.format(gridSearch.best_score_))\n",
        "print('Best parameters:')\n",
        "best_parameters = gridSearch.best_estimator_.get_params()\n",
        "\n",
        "best_min_df = best_parameters['vectorizer__min_df']\n",
        "best_max_df = best_parameters['vectorizer__max_df']\n",
        "\n",
        "print(\"Best min df:\", best_min_df)\n",
        "print(\"Best max df:\", best_max_df)\n",
        "\n",
        "#best_min_df = 1\n",
        "#best_max_df = 0.4\n",
        "\n",
        "best_C = gridSearch.best_params_['classifier__C']\n",
        "print(\"Best C:\", best_C)\n",
        "\n",
        "###### OBTENGO EL MEJOR MODELO RESULTADO DEL GRID SEARCH #####\n",
        "#### Crear una matriz de términos-documentos --> Fit input samples\n",
        "# Con max_df y min_df obtenidos antes\n",
        "best_count_vectorizer = TfidfVectorizer(min_df=best_min_df, max_df=best_max_df)\n",
        "train_data_Vocab = best_count_vectorizer.fit_transform(articulos_filtrados_train)\n",
        "\n",
        "# Obtener los unigrams --> Frecuencia de palabras en todos los documentos en train\n",
        "doc_freq = np.array(train_data_Vocab.astype(bool).sum(axis=0)).flatten()\n",
        "\n",
        "a = plt.hist(doc_freq, bins=200,log=True)\n",
        "plt.title('Frecuencia de palabras en escala logaritmica')\n",
        "plt.show()\n",
        "\n",
        "##### ENTRENO #####\n",
        "best_model_pipeline = LogisticRegression(C = best_C)\n",
        "best_model_pipeline.fit(train_data_Vocab.toarray(), twenty_train[\"target\"])\n",
        "####################\n"
      ],
      "metadata": {
        "colab": {
          "base_uri": "https://localhost:8080/",
          "height": 755
        },
        "outputId": "09f50732-acaa-4c2a-ce80-d82bca7e60ad",
        "id": "QwngFsAsqJTr"
      },
      "execution_count": null,
      "outputs": [
        {
          "output_type": "stream",
          "name": "stdout",
          "text": [
            "El mejor resultado fue: 0.7149486244613854\n",
            "Best parameters:\n",
            "Best min df: 1\n",
            "Best max df: 0.1125\n",
            "Best C: 4.5\n"
          ]
        },
        {
          "output_type": "display_data",
          "data": {
            "text/plain": [
              "<Figure size 640x480 with 1 Axes>"
            ],
            "image/png": "[encoded data removed]"
          },
          "metadata": {}
        },
        {
          "output_type": "stream",
          "name": "stderr",
          "text": [
            "/usr/local/lib/python3.10/dist-packages/sklearn/linear_model/_logistic.py:458: ConvergenceWarning: lbfgs failed to converge (status=1):\n",
            "STOP: TOTAL NO. of ITERATIONS REACHED LIMIT.\n",
            "\n",
            "Increase the number of iterations (max_iter) or scale the data as shown in:\n",
            "    https://scikit-learn.org/stable/modules/preprocessing.html\n",
            "Please also refer to the documentation for alternative solver options:\n",
            "    https://scikit-learn.org/stable/modules/linear_model.html#logistic-regression\n",
            "  n_iter_i = _check_optimize_result(\n"
          ]
        },
        {
          "output_type": "execute_result",
          "data": {
            "text/plain": [
              "LogisticRegression(C=4.5)"
            ],
            "text/html": [
              "<style>#sk-container-id-15 {color: black;background-color: white;}#sk-container-id-15 pre{padding: 0;}#sk-container-id-15 div.sk-toggleable {background-color: white;}#sk-container-id-15 label.sk-toggleable__label {cursor: pointer;display: block;width: 100%;margin-bottom: 0;padding: 0.3em;box-sizing: border-box;text-align: center;}#sk-container-id-15 label.sk-toggleable__label-arrow:before {content: \"▸\";float: left;margin-right: 0.25em;color: #696969;}#sk-container-id-15 label.sk-toggleable__label-arrow:hover:before {color: black;}#sk-container-id-15 div.sk-estimator:hover label.sk-toggleable__label-arrow:before {color: black;}#sk-container-id-15 div.sk-toggleable__content {max-height: 0;max-width: 0;overflow: hidden;text-align: left;background-color: #f0f8ff;}#sk-container-id-15 div.sk-toggleable__content pre {margin: 0.2em;color: black;border-radius: 0.25em;background-color: #f0f8ff;}#sk-container-id-15 input.sk-toggleable__control:checked~div.sk-toggleable__content {max-height: 200px;max-width: 100%;overflow: auto;}#sk-container-id-15 input.sk-toggleable__control:checked~label.sk-toggleable__label-arrow:before {content: \"▾\";}#sk-container-id-15 div.sk-estimator input.sk-toggleable__control:checked~label.sk-toggleable__label {background-color: #d4ebff;}#sk-container-id-15 div.sk-label input.sk-toggleable__control:checked~label.sk-toggleable__label {background-color: #d4ebff;}#sk-container-id-15 input.sk-hidden--visually {border: 0;clip: rect(1px 1px 1px 1px);clip: rect(1px, 1px, 1px, 1px);height: 1px;margin: -1px;overflow: hidden;padding: 0;position: absolute;width: 1px;}#sk-container-id-15 div.sk-estimator {font-family: monospace;background-color: #f0f8ff;border: 1px dotted black;border-radius: 0.25em;box-sizing: border-box;margin-bottom: 0.5em;}#sk-container-id-15 div.sk-estimator:hover {background-color: #d4ebff;}#sk-container-id-15 div.sk-parallel-item::after {content: \"\";width: 100%;border-bottom: 1px solid gray;flex-grow: 1;}#sk-container-id-15 div.sk-label:hover label.sk-toggleable__label {background-color: #d4ebff;}#sk-container-id-15 div.sk-serial::before {content: \"\";position: absolute;border-left: 1px solid gray;box-sizing: border-box;top: 0;bottom: 0;left: 50%;z-index: 0;}#sk-container-id-15 div.sk-serial {display: flex;flex-direction: column;align-items: center;background-color: white;padding-right: 0.2em;padding-left: 0.2em;position: relative;}#sk-container-id-15 div.sk-item {position: relative;z-index: 1;}#sk-container-id-15 div.sk-parallel {display: flex;align-items: stretch;justify-content: center;background-color: white;position: relative;}#sk-container-id-15 div.sk-item::before, #sk-container-id-15 div.sk-parallel-item::before {content: \"\";position: absolute;border-left: 1px solid gray;box-sizing: border-box;top: 0;bottom: 0;left: 50%;z-index: -1;}#sk-container-id-15 div.sk-parallel-item {display: flex;flex-direction: column;z-index: 1;position: relative;background-color: white;}#sk-container-id-15 div.sk-parallel-item:first-child::after {align-self: flex-end;width: 50%;}#sk-container-id-15 div.sk-parallel-item:last-child::after {align-self: flex-start;width: 50%;}#sk-container-id-15 div.sk-parallel-item:only-child::after {width: 0;}#sk-container-id-15 div.sk-dashed-wrapped {border: 1px dashed gray;margin: 0 0.4em 0.5em 0.4em;box-sizing: border-box;padding-bottom: 0.4em;background-color: white;}#sk-container-id-15 div.sk-label label {font-family: monospace;font-weight: bold;display: inline-block;line-height: 1.2em;}#sk-container-id-15 div.sk-label-container {text-align: center;}#sk-container-id-15 div.sk-container {/* jupyter's `normalize.less` sets `[hidden] { display: none; }` but bootstrap.min.css set `[hidden] { display: none !important; }` so we also need the `!important` here to be able to override the default hidden behavior on the sphinx rendered scikit-learn.org. See: https://github.com/scikit-learn/scikit-learn/issues/21755 */display: inline-block !important;position: relative;}#sk-container-id-15 div.sk-text-repr-fallback {display: none;}</style><div id=\"sk-container-id-15\" class=\"sk-top-container\"><div class=\"sk-text-repr-fallback\"><pre>LogisticRegression(C=4.5)</pre><b>In a Jupyter environment, please rerun this cell to show the HTML representation or trust the notebook. <br />On GitHub, the HTML representation is unable to render, please try loading this page with nbviewer.org.</b></div><div class=\"sk-container\" hidden><div class=\"sk-item\"><div class=\"sk-estimator sk-toggleable\"><input class=\"sk-toggleable__control sk-hidden--visually\" id=\"sk-estimator-id-39\" type=\"checkbox\" checked><label for=\"sk-estimator-id-39\" class=\"sk-toggleable__label sk-toggleable__label-arrow\">LogisticRegression</label><div class=\"sk-toggleable__content\"><pre>LogisticRegression(C=4.5)</pre></div></div></div></div></div>"
            ]
          },
          "metadata": {},
          "execution_count": 45
        }
      ]
    },
    {
      "cell_type": "code",
      "source": [
        "porc=sum(np.array(best_model_pipeline.predict(train_data_Vocab.toarray()))==np.array(twenty_train[\"target\"]))/cantArticulosTrain*100\n",
        "print(\"TRAIN\\nEl porcentaje de artículos clasificados correctamente es: {}%\".format(porc))"
      ],
      "metadata": {
        "colab": {
          "base_uri": "https://localhost:8080/"
        },
        "outputId": "3888b1f1-6d24-41ba-8a07-d5d40c09c436",
        "id": "EvMKZj74qJTr"
      },
      "execution_count": null,
      "outputs": [
        {
          "output_type": "stream",
          "name": "stdout",
          "text": [
            "TRAIN\n",
            "El porcentaje de artículos clasificados correctamente es: 96.35399403380842%\n"
          ]
        }
      ]
    },
    {
      "cell_type": "markdown",
      "source": [
        "### Validation"
      ],
      "metadata": {
        "id": "C9mD6o9B_rLR"
      }
    },
    {
      "cell_type": "code",
      "source": [
        "cantArticulosValidation = len(twenty_validation[\"data\"]) #Cantidad de artículos periodísticos\n",
        "print(\"VALIDATION\\nCantidad de articulos:\", cantArticulosValidation )\n",
        "validation_data_Vocab = best_count_vectorizer.transform(articulos_filtrados_validation)\n",
        "\n",
        "porc=sum(np.array(best_model_pipeline.predict(validation_data_Vocab.toarray()))==np.array(twenty_validation[\"target\"]))/cantArticulosValidation*100\n",
        "print(\"El porcentaje de artículos clasificados correctamente es: {}%\".format(porc))"
      ],
      "metadata": {
        "colab": {
          "base_uri": "https://localhost:8080/"
        },
        "outputId": "fcfb68a8-29d0-43c4-dcfd-fad8bf2b7066",
        "id": "hf9v28vNqJTs"
      },
      "execution_count": null,
      "outputs": [
        {
          "output_type": "stream",
          "name": "stdout",
          "text": [
            "VALIDATION\n",
            "Cantidad de articulos: 2263\n",
            "El porcentaje de artículos clasificados correctamente es: 74.28192664604506%\n"
          ]
        }
      ]
    },
    {
      "cell_type": "markdown",
      "source": [
        "## Test"
      ],
      "metadata": {
        "id": "uxI0IX-Q_tZs"
      }
    },
    {
      "cell_type": "code",
      "source": [
        "cantArticulosTest = len(twenty_test.data) #Cantidad de artículos periodísticos\n",
        "print(\"TEST\\nCantidad de articulos:\", cantArticulosTest )\n",
        "test_data_Vocab = best_count_vectorizer.transform(articulos_filtrados_test)\n",
        "\n",
        "porc=sum(np.array(best_model_pipeline.predict(test_data_Vocab.toarray()))==np.array(twenty_test[\"target\"]))/cantArticulosTest*100\n",
        "print(\"El porcentaje de artículos clasificados correctamente es: {}%\".format(porc))"
      ],
      "metadata": {
        "colab": {
          "base_uri": "https://localhost:8080/"
        },
        "outputId": "147eccc3-bb06-4bc4-a2c2-6b70a04cec0a",
        "id": "vZZGCGMWqJTs"
      },
      "execution_count": null,
      "outputs": [
        {
          "output_type": "stream",
          "name": "stdout",
          "text": [
            "TEST\n",
            "Cantidad de articulos: 7532\n",
            "El porcentaje de artículos clasificados correctamente es: 66.91449814126395%\n"
          ]
        }
      ]
    },
    {
      "cell_type": "markdown",
      "source": [
        "# Resumen de resultados"
      ],
      "metadata": {
        "id": "bVf_nBcIVqj7"
      }
    },
    {
      "cell_type": "markdown",
      "source": [
        "**Train**\n",
        "\n",
        "*   88.27753839354767% para CV con NB\n",
        "\n",
        "*   91.97878687437853% para CV con LR\n",
        "\n",
        "*   94.49784554192907% para TF_IDF con NB\n",
        "\n",
        "*   96.35399403380842% para TF_IDF con LR"
      ],
      "metadata": {
        "id": "2Q7R53MFWnuj"
      }
    },
    {
      "cell_type": "markdown",
      "source": [
        "**Validation:**\n",
        "\n",
        "*  72.20503756076006% para CV con NB\n",
        "\n",
        "*  69.06760936809545% para CV con LR\n",
        "\n",
        "*  76.18205921343349% para TF_IDF con NB\n",
        "\n",
        "*  74.28192664604506% para TF_IDF con LR\n",
        "\n"
      ],
      "metadata": {
        "id": "ORSHcEgXV7Nn"
      }
    },
    {
      "cell_type": "markdown",
      "source": [
        "**Test:**\n",
        "\n",
        "*  65.2283590015932% para CV con NB\n",
        "\n",
        "*  62.519915029208704% para CV con LR\n",
        "\n",
        "*  **68.75995751460435% para TF_IDF con NB**\n",
        "\n",
        "*  66.91449814126395% para TF_IDF con LR"
      ],
      "metadata": {
        "id": "hIH7_pP9Vuy9"
      }
    },
    {
      "cell_type": "markdown",
      "source": [
        "## Mejor modelo: 68.75996%\n",
        "Multinomial Naive Bayes con TF_IDF\n",
        "- Best min df: 1\n",
        "- Best max df: 0.375\n",
        "- Best alpha: 0.025\n"
      ],
      "metadata": {
        "id": "VuyxnzKsAoX9"
      }
    }
  ],
  "metadata": {
    "colab": {
      "toc_visible": true,
      "provenance": [],
      "include_colab_link": true
    },
    "kernelspec": {
      "display_name": "Python 3",
      "name": "python3"
    },
    "language_info": {
      "name": "python"
    }
  },
  "nbformat": 4,
  "nbformat_minor": 0
}